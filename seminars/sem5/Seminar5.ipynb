{
 "cells": [
  {
   "cell_type": "markdown",
   "metadata": {},
   "source": [
    "## **Предобработка данных. Категориальные признаки. Работа с текстами.**\n",
    "\n",
    "Содержание семинара опирается на семинары, проводимые на ФКН. Во второй части работы отчасти использован туториал Kaggle по Word2Vec."
   ]
  },
  {
   "cell_type": "code",
   "execution_count": 1,
   "metadata": {
    "collapsed": true
   },
   "outputs": [],
   "source": [
    "import numpy as np\n",
    "import pandas as pd"
   ]
  },
  {
   "cell_type": "markdown",
   "metadata": {},
   "source": [
    "В первой части семинара будем использовать немного видоизменённый для наших целей датасет https://archive.ics.uci.edu/ml/datasets/AutoUniv.\n",
    "\n",
    "В нём присутствуют целочисленные, вещественнозначные и категориальные признаки."
   ]
  },
  {
   "cell_type": "code",
   "execution_count": 2,
   "metadata": {
    "collapsed": false
   },
   "outputs": [
    {
     "data": {
      "text/html": [
       "<div>\n",
       "<style>\n",
       "    .dataframe thead tr:only-child th {\n",
       "        text-align: right;\n",
       "    }\n",
       "\n",
       "    .dataframe thead th {\n",
       "        text-align: left;\n",
       "    }\n",
       "\n",
       "    .dataframe tbody tr th {\n",
       "        vertical-align: top;\n",
       "    }\n",
       "</style>\n",
       "<table border=\"1\" class=\"dataframe\">\n",
       "  <thead>\n",
       "    <tr style=\"text-align: right;\">\n",
       "      <th></th>\n",
       "      <th>Unnamed: 0</th>\n",
       "      <th>att1</th>\n",
       "      <th>att2</th>\n",
       "      <th>att3</th>\n",
       "      <th>att4</th>\n",
       "      <th>att5</th>\n",
       "      <th>att6</th>\n",
       "      <th>att7</th>\n",
       "      <th>att8</th>\n",
       "      <th>att9</th>\n",
       "      <th>...</th>\n",
       "      <th>att117</th>\n",
       "      <th>att118</th>\n",
       "      <th>att119</th>\n",
       "      <th>att120</th>\n",
       "      <th>att121</th>\n",
       "      <th>att122</th>\n",
       "      <th>att123</th>\n",
       "      <th>att124</th>\n",
       "      <th>att125</th>\n",
       "      <th>class</th>\n",
       "    </tr>\n",
       "  </thead>\n",
       "  <tbody>\n",
       "    <tr>\n",
       "      <th>0</th>\n",
       "      <td>0</td>\n",
       "      <td>6.4</td>\n",
       "      <td>550</td>\n",
       "      <td>92.0</td>\n",
       "      <td>3.15</td>\n",
       "      <td>78.2</td>\n",
       "      <td>6040</td>\n",
       "      <td>1.53</td>\n",
       "      <td>83.7</td>\n",
       "      <td>dog</td>\n",
       "      <td>...</td>\n",
       "      <td>0.77</td>\n",
       "      <td>4753</td>\n",
       "      <td>904</td>\n",
       "      <td>0.93</td>\n",
       "      <td>2.9</td>\n",
       "      <td>v1</td>\n",
       "      <td>27.6</td>\n",
       "      <td>294</td>\n",
       "      <td>739</td>\n",
       "      <td>class4</td>\n",
       "    </tr>\n",
       "    <tr>\n",
       "      <th>1</th>\n",
       "      <td>1</td>\n",
       "      <td>3.1</td>\n",
       "      <td>542</td>\n",
       "      <td>70.2</td>\n",
       "      <td>4.04</td>\n",
       "      <td>79.1</td>\n",
       "      <td>6464</td>\n",
       "      <td>1.56</td>\n",
       "      <td>94.7</td>\n",
       "      <td>seal</td>\n",
       "      <td>...</td>\n",
       "      <td>0.45</td>\n",
       "      <td>6952</td>\n",
       "      <td>905</td>\n",
       "      <td>0.91</td>\n",
       "      <td>5.2</td>\n",
       "      <td>v1</td>\n",
       "      <td>28.5</td>\n",
       "      <td>660</td>\n",
       "      <td>705</td>\n",
       "      <td>class4</td>\n",
       "    </tr>\n",
       "    <tr>\n",
       "      <th>2</th>\n",
       "      <td>2</td>\n",
       "      <td>3.2</td>\n",
       "      <td>579</td>\n",
       "      <td>90.9</td>\n",
       "      <td>4.16</td>\n",
       "      <td>76.7</td>\n",
       "      <td>6395</td>\n",
       "      <td>7.27</td>\n",
       "      <td>84.4</td>\n",
       "      <td>seal</td>\n",
       "      <td>...</td>\n",
       "      <td>0.45</td>\n",
       "      <td>4664</td>\n",
       "      <td>897</td>\n",
       "      <td>0.84</td>\n",
       "      <td>1.1</td>\n",
       "      <td>v1</td>\n",
       "      <td>27.7</td>\n",
       "      <td>546</td>\n",
       "      <td>688</td>\n",
       "      <td>class1</td>\n",
       "    </tr>\n",
       "    <tr>\n",
       "      <th>3</th>\n",
       "      <td>3</td>\n",
       "      <td>3.1</td>\n",
       "      <td>609</td>\n",
       "      <td>78.2</td>\n",
       "      <td>3.02</td>\n",
       "      <td>78.6</td>\n",
       "      <td>5678</td>\n",
       "      <td>8.04</td>\n",
       "      <td>88.2</td>\n",
       "      <td>bird</td>\n",
       "      <td>...</td>\n",
       "      <td>0.56</td>\n",
       "      <td>4762</td>\n",
       "      <td>873</td>\n",
       "      <td>0.48</td>\n",
       "      <td>1.3</td>\n",
       "      <td>v2</td>\n",
       "      <td>27.7</td>\n",
       "      <td>646</td>\n",
       "      <td>783</td>\n",
       "      <td>class4</td>\n",
       "    </tr>\n",
       "    <tr>\n",
       "      <th>4</th>\n",
       "      <td>4</td>\n",
       "      <td>2.7</td>\n",
       "      <td>557</td>\n",
       "      <td>81.0</td>\n",
       "      <td>4.03</td>\n",
       "      <td>78.9</td>\n",
       "      <td>6508</td>\n",
       "      <td>9.00</td>\n",
       "      <td>84.5</td>\n",
       "      <td>cat</td>\n",
       "      <td>...</td>\n",
       "      <td>0.48</td>\n",
       "      <td>4649</td>\n",
       "      <td>822</td>\n",
       "      <td>0.86</td>\n",
       "      <td>1.2</td>\n",
       "      <td>v1</td>\n",
       "      <td>47.0</td>\n",
       "      <td>642</td>\n",
       "      <td>665</td>\n",
       "      <td>class1</td>\n",
       "    </tr>\n",
       "  </tbody>\n",
       "</table>\n",
       "<p>5 rows × 127 columns</p>\n",
       "</div>"
      ],
      "text/plain": [
       "   Unnamed: 0  att1  att2  att3  att4  att5  att6  att7  att8  att9   ...    \\\n",
       "0           0   6.4   550  92.0  3.15  78.2  6040  1.53  83.7   dog   ...     \n",
       "1           1   3.1   542  70.2  4.04  79.1  6464  1.56  94.7  seal   ...     \n",
       "2           2   3.2   579  90.9  4.16  76.7  6395  7.27  84.4  seal   ...     \n",
       "3           3   3.1   609  78.2  3.02  78.6  5678  8.04  88.2  bird   ...     \n",
       "4           4   2.7   557  81.0  4.03  78.9  6508  9.00  84.5   cat   ...     \n",
       "\n",
       "   att117  att118  att119  att120 att121  att122  att123 att124  att125  \\\n",
       "0    0.77    4753     904    0.93    2.9      v1    27.6    294     739   \n",
       "1    0.45    6952     905    0.91    5.2      v1    28.5    660     705   \n",
       "2    0.45    4664     897    0.84    1.1      v1    27.7    546     688   \n",
       "3    0.56    4762     873    0.48    1.3      v2    27.7    646     783   \n",
       "4    0.48    4649     822    0.86    1.2      v1    47.0    642     665   \n",
       "\n",
       "    class  \n",
       "0  class4  \n",
       "1  class4  \n",
       "2  class1  \n",
       "3  class4  \n",
       "4  class1  \n",
       "\n",
       "[5 rows x 127 columns]"
      ]
     },
     "execution_count": 2,
     "metadata": {},
     "output_type": "execute_result"
    }
   ],
   "source": [
    "df = pd.read_csv('table.csv')\n",
    "df.head()"
   ]
  },
  {
   "cell_type": "markdown",
   "metadata": {},
   "source": [
    "**Преобразование категориальных признаков**"
   ]
  },
  {
   "cell_type": "markdown",
   "metadata": {},
   "source": [
    "Рассмотрим несколько типов предобработки данных. Она важна для корректной работы различных методов машинного обучения, в особенности, для линейных. "
   ]
  },
  {
   "cell_type": "code",
   "execution_count": 3,
   "metadata": {
    "collapsed": true
   },
   "outputs": [],
   "source": [
    "from sklearn import preprocessing"
   ]
  },
  {
   "cell_type": "markdown",
   "metadata": {},
   "source": [
    "Если в наших данных присутствуют категориальные признаки, то есть текстовые или порядковые признаки - те признаки, к которым нельзя относиться как к числам, то для дальнейшей работы с такими данными надо преобразовать категориальные признаки в числа. \n",
    "\n",
    "Нельзя упускать из вида порядковые признаки. Например, если наши данные содержат в качестве столбца индекс местности, то алгоритм будет считать, что индекс 119331 > 119101, что для нас смысла не имеет. Мы хотим, чтобы различные индексы служили индикаторами различных географических областей. Для этого порядковые признаки также надо предобрабатывать и переводить в числовые."
   ]
  },
  {
   "cell_type": "markdown",
   "metadata": {},
   "source": [
    "Посмотрим, какие стоблцы нашей таблицы содержат категориальные признаки."
   ]
  },
  {
   "cell_type": "code",
   "execution_count": 4,
   "metadata": {
    "collapsed": false
   },
   "outputs": [
    {
     "data": {
      "text/plain": [
       "array([False, False, False, False, False, False, False, False, False,\n",
       "        True, False, False, False, False,  True, False, False,  True,\n",
       "       False, False, False, False, False, False,  True,  True, False,\n",
       "       False,  True, False, False, False, False, False, False,  True,\n",
       "       False, False, False, False, False, False,  True,  True, False,\n",
       "       False, False, False,  True, False, False, False, False, False,\n",
       "       False, False, False,  True,  True, False, False, False,  True,\n",
       "       False, False,  True, False, False, False, False, False, False,\n",
       "       False, False, False, False, False, False,  True, False,  True,\n",
       "       False, False, False, False,  True, False, False, False,  True,\n",
       "       False,  True, False, False, False, False,  True, False, False,\n",
       "       False, False,  True, False, False,  True, False, False, False,\n",
       "       False, False, False, False, False, False, False, False,  True,\n",
       "       False, False, False, False, False,  True, False, False, False,  True], dtype=bool)"
      ]
     },
     "execution_count": 4,
     "metadata": {},
     "output_type": "execute_result"
    }
   ],
   "source": [
    "cat_features_mask = (df.dtypes == \"object\").values\n",
    "cat_features_mask"
   ]
  },
  {
   "cell_type": "code",
   "execution_count": 5,
   "metadata": {
    "collapsed": false
   },
   "outputs": [
    {
     "data": {
      "text/plain": [
       "25"
      ]
     },
     "execution_count": 5,
     "metadata": {},
     "output_type": "execute_result"
    }
   ],
   "source": [
    "len(cat_features_mask[cat_features_mask==True])"
   ]
  },
  {
   "cell_type": "markdown",
   "metadata": {},
   "source": [
    "**Перевод текстовых категориальных признаков в числа**\n",
    "\n",
    "Переведем все нечисловые признаки в числовые (порядковые), а затем будем их кодировать различными способами."
   ]
  },
  {
   "cell_type": "code",
   "execution_count": 6,
   "metadata": {
    "collapsed": false
   },
   "outputs": [
    {
     "data": {
      "text/html": [
       "<div>\n",
       "<style>\n",
       "    .dataframe thead tr:only-child th {\n",
       "        text-align: right;\n",
       "    }\n",
       "\n",
       "    .dataframe thead th {\n",
       "        text-align: left;\n",
       "    }\n",
       "\n",
       "    .dataframe tbody tr th {\n",
       "        vertical-align: top;\n",
       "    }\n",
       "</style>\n",
       "<table border=\"1\" class=\"dataframe\">\n",
       "  <thead>\n",
       "    <tr style=\"text-align: right;\">\n",
       "      <th></th>\n",
       "      <th>Unnamed: 0</th>\n",
       "      <th>att1</th>\n",
       "      <th>att2</th>\n",
       "      <th>att3</th>\n",
       "      <th>att4</th>\n",
       "      <th>att5</th>\n",
       "      <th>att6</th>\n",
       "      <th>att7</th>\n",
       "      <th>att8</th>\n",
       "      <th>att9</th>\n",
       "      <th>...</th>\n",
       "      <th>att117</th>\n",
       "      <th>att118</th>\n",
       "      <th>att119</th>\n",
       "      <th>att120</th>\n",
       "      <th>att121</th>\n",
       "      <th>att122</th>\n",
       "      <th>att123</th>\n",
       "      <th>att124</th>\n",
       "      <th>att125</th>\n",
       "      <th>class</th>\n",
       "    </tr>\n",
       "  </thead>\n",
       "  <tbody>\n",
       "    <tr>\n",
       "      <th>0</th>\n",
       "      <td>0</td>\n",
       "      <td>6.4</td>\n",
       "      <td>550</td>\n",
       "      <td>92.0</td>\n",
       "      <td>3.15</td>\n",
       "      <td>78.2</td>\n",
       "      <td>6040</td>\n",
       "      <td>1.53</td>\n",
       "      <td>83.7</td>\n",
       "      <td>2</td>\n",
       "      <td>...</td>\n",
       "      <td>0.77</td>\n",
       "      <td>4753</td>\n",
       "      <td>904</td>\n",
       "      <td>0.93</td>\n",
       "      <td>2.9</td>\n",
       "      <td>0</td>\n",
       "      <td>27.6</td>\n",
       "      <td>294</td>\n",
       "      <td>739</td>\n",
       "      <td>3</td>\n",
       "    </tr>\n",
       "    <tr>\n",
       "      <th>1</th>\n",
       "      <td>1</td>\n",
       "      <td>3.1</td>\n",
       "      <td>542</td>\n",
       "      <td>70.2</td>\n",
       "      <td>4.04</td>\n",
       "      <td>79.1</td>\n",
       "      <td>6464</td>\n",
       "      <td>1.56</td>\n",
       "      <td>94.7</td>\n",
       "      <td>6</td>\n",
       "      <td>...</td>\n",
       "      <td>0.45</td>\n",
       "      <td>6952</td>\n",
       "      <td>905</td>\n",
       "      <td>0.91</td>\n",
       "      <td>5.2</td>\n",
       "      <td>0</td>\n",
       "      <td>28.5</td>\n",
       "      <td>660</td>\n",
       "      <td>705</td>\n",
       "      <td>3</td>\n",
       "    </tr>\n",
       "    <tr>\n",
       "      <th>2</th>\n",
       "      <td>2</td>\n",
       "      <td>3.2</td>\n",
       "      <td>579</td>\n",
       "      <td>90.9</td>\n",
       "      <td>4.16</td>\n",
       "      <td>76.7</td>\n",
       "      <td>6395</td>\n",
       "      <td>7.27</td>\n",
       "      <td>84.4</td>\n",
       "      <td>6</td>\n",
       "      <td>...</td>\n",
       "      <td>0.45</td>\n",
       "      <td>4664</td>\n",
       "      <td>897</td>\n",
       "      <td>0.84</td>\n",
       "      <td>1.1</td>\n",
       "      <td>0</td>\n",
       "      <td>27.7</td>\n",
       "      <td>546</td>\n",
       "      <td>688</td>\n",
       "      <td>0</td>\n",
       "    </tr>\n",
       "    <tr>\n",
       "      <th>3</th>\n",
       "      <td>3</td>\n",
       "      <td>3.1</td>\n",
       "      <td>609</td>\n",
       "      <td>78.2</td>\n",
       "      <td>3.02</td>\n",
       "      <td>78.6</td>\n",
       "      <td>5678</td>\n",
       "      <td>8.04</td>\n",
       "      <td>88.2</td>\n",
       "      <td>0</td>\n",
       "      <td>...</td>\n",
       "      <td>0.56</td>\n",
       "      <td>4762</td>\n",
       "      <td>873</td>\n",
       "      <td>0.48</td>\n",
       "      <td>1.3</td>\n",
       "      <td>1</td>\n",
       "      <td>27.7</td>\n",
       "      <td>646</td>\n",
       "      <td>783</td>\n",
       "      <td>3</td>\n",
       "    </tr>\n",
       "    <tr>\n",
       "      <th>4</th>\n",
       "      <td>4</td>\n",
       "      <td>2.7</td>\n",
       "      <td>557</td>\n",
       "      <td>81.0</td>\n",
       "      <td>4.03</td>\n",
       "      <td>78.9</td>\n",
       "      <td>6508</td>\n",
       "      <td>9.00</td>\n",
       "      <td>84.5</td>\n",
       "      <td>1</td>\n",
       "      <td>...</td>\n",
       "      <td>0.48</td>\n",
       "      <td>4649</td>\n",
       "      <td>822</td>\n",
       "      <td>0.86</td>\n",
       "      <td>1.2</td>\n",
       "      <td>0</td>\n",
       "      <td>47.0</td>\n",
       "      <td>642</td>\n",
       "      <td>665</td>\n",
       "      <td>0</td>\n",
       "    </tr>\n",
       "  </tbody>\n",
       "</table>\n",
       "<p>5 rows × 127 columns</p>\n",
       "</div>"
      ],
      "text/plain": [
       "   Unnamed: 0  att1  att2  att3  att4  att5  att6  att7  att8  att9  ...    \\\n",
       "0           0   6.4   550  92.0  3.15  78.2  6040  1.53  83.7     2  ...     \n",
       "1           1   3.1   542  70.2  4.04  79.1  6464  1.56  94.7     6  ...     \n",
       "2           2   3.2   579  90.9  4.16  76.7  6395  7.27  84.4     6  ...     \n",
       "3           3   3.1   609  78.2  3.02  78.6  5678  8.04  88.2     0  ...     \n",
       "4           4   2.7   557  81.0  4.03  78.9  6508  9.00  84.5     1  ...     \n",
       "\n",
       "   att117  att118  att119  att120  att121  att122  att123  att124  att125  \\\n",
       "0    0.77    4753     904    0.93     2.9       0    27.6     294     739   \n",
       "1    0.45    6952     905    0.91     5.2       0    28.5     660     705   \n",
       "2    0.45    4664     897    0.84     1.1       0    27.7     546     688   \n",
       "3    0.56    4762     873    0.48     1.3       1    27.7     646     783   \n",
       "4    0.48    4649     822    0.86     1.2       0    47.0     642     665   \n",
       "\n",
       "   class  \n",
       "0      3  \n",
       "1      3  \n",
       "2      0  \n",
       "3      3  \n",
       "4      0  \n",
       "\n",
       "[5 rows x 127 columns]"
      ]
     },
     "execution_count": 6,
     "metadata": {},
     "output_type": "execute_result"
    }
   ],
   "source": [
    "label_enc = preprocessing.LabelEncoder()\n",
    "for feature in df.columns[cat_features_mask]: \n",
    "    df[feature] = label_enc.fit_transform(df[feature])\n",
    "df.head()"
   ]
  },
  {
   "cell_type": "markdown",
   "metadata": {},
   "source": [
    "**OneHot-кодирование**\n",
    "\n",
    "Пусть некоторый признак принимает значения из множества K. OneHotEncoder вместо одного признака создает K бинарных признаков - по одному на каждое возможное значение исходного признака."
   ]
  },
  {
   "cell_type": "code",
   "execution_count": 7,
   "metadata": {
    "collapsed": true
   },
   "outputs": [],
   "source": [
    "enc = preprocessing.OneHotEncoder(sparse=False)\n",
    "df_cat = enc.fit_transform(df[df.columns[cat_features_mask]])\n",
    "df_cat = pd.DataFrame(data=df_cat)"
   ]
  },
  {
   "cell_type": "code",
   "execution_count": 8,
   "metadata": {
    "collapsed": false
   },
   "outputs": [
    {
     "name": "stdout",
     "output_type": "stream",
     "text": [
      "(500, 81)\n"
     ]
    },
    {
     "data": {
      "text/html": [
       "<div>\n",
       "<style>\n",
       "    .dataframe thead tr:only-child th {\n",
       "        text-align: right;\n",
       "    }\n",
       "\n",
       "    .dataframe thead th {\n",
       "        text-align: left;\n",
       "    }\n",
       "\n",
       "    .dataframe tbody tr th {\n",
       "        vertical-align: top;\n",
       "    }\n",
       "</style>\n",
       "<table border=\"1\" class=\"dataframe\">\n",
       "  <thead>\n",
       "    <tr style=\"text-align: right;\">\n",
       "      <th></th>\n",
       "      <th>0</th>\n",
       "      <th>1</th>\n",
       "      <th>2</th>\n",
       "      <th>3</th>\n",
       "      <th>4</th>\n",
       "      <th>5</th>\n",
       "      <th>6</th>\n",
       "      <th>7</th>\n",
       "      <th>8</th>\n",
       "      <th>9</th>\n",
       "      <th>...</th>\n",
       "      <th>71</th>\n",
       "      <th>72</th>\n",
       "      <th>73</th>\n",
       "      <th>74</th>\n",
       "      <th>75</th>\n",
       "      <th>76</th>\n",
       "      <th>77</th>\n",
       "      <th>78</th>\n",
       "      <th>79</th>\n",
       "      <th>80</th>\n",
       "    </tr>\n",
       "  </thead>\n",
       "  <tbody>\n",
       "    <tr>\n",
       "      <th>0</th>\n",
       "      <td>0.0</td>\n",
       "      <td>0.0</td>\n",
       "      <td>1.0</td>\n",
       "      <td>0.0</td>\n",
       "      <td>0.0</td>\n",
       "      <td>0.0</td>\n",
       "      <td>0.0</td>\n",
       "      <td>0.0</td>\n",
       "      <td>1.0</td>\n",
       "      <td>0.0</td>\n",
       "      <td>...</td>\n",
       "      <td>0.0</td>\n",
       "      <td>0.0</td>\n",
       "      <td>0.0</td>\n",
       "      <td>1.0</td>\n",
       "      <td>1.0</td>\n",
       "      <td>0.0</td>\n",
       "      <td>0.0</td>\n",
       "      <td>0.0</td>\n",
       "      <td>0.0</td>\n",
       "      <td>1.0</td>\n",
       "    </tr>\n",
       "    <tr>\n",
       "      <th>1</th>\n",
       "      <td>0.0</td>\n",
       "      <td>0.0</td>\n",
       "      <td>0.0</td>\n",
       "      <td>0.0</td>\n",
       "      <td>0.0</td>\n",
       "      <td>0.0</td>\n",
       "      <td>1.0</td>\n",
       "      <td>0.0</td>\n",
       "      <td>0.0</td>\n",
       "      <td>1.0</td>\n",
       "      <td>...</td>\n",
       "      <td>0.0</td>\n",
       "      <td>0.0</td>\n",
       "      <td>1.0</td>\n",
       "      <td>0.0</td>\n",
       "      <td>1.0</td>\n",
       "      <td>0.0</td>\n",
       "      <td>0.0</td>\n",
       "      <td>0.0</td>\n",
       "      <td>0.0</td>\n",
       "      <td>1.0</td>\n",
       "    </tr>\n",
       "    <tr>\n",
       "      <th>2</th>\n",
       "      <td>0.0</td>\n",
       "      <td>0.0</td>\n",
       "      <td>0.0</td>\n",
       "      <td>0.0</td>\n",
       "      <td>0.0</td>\n",
       "      <td>0.0</td>\n",
       "      <td>1.0</td>\n",
       "      <td>0.0</td>\n",
       "      <td>1.0</td>\n",
       "      <td>0.0</td>\n",
       "      <td>...</td>\n",
       "      <td>0.0</td>\n",
       "      <td>1.0</td>\n",
       "      <td>0.0</td>\n",
       "      <td>0.0</td>\n",
       "      <td>1.0</td>\n",
       "      <td>0.0</td>\n",
       "      <td>1.0</td>\n",
       "      <td>0.0</td>\n",
       "      <td>0.0</td>\n",
       "      <td>0.0</td>\n",
       "    </tr>\n",
       "    <tr>\n",
       "      <th>3</th>\n",
       "      <td>1.0</td>\n",
       "      <td>0.0</td>\n",
       "      <td>0.0</td>\n",
       "      <td>0.0</td>\n",
       "      <td>0.0</td>\n",
       "      <td>0.0</td>\n",
       "      <td>0.0</td>\n",
       "      <td>0.0</td>\n",
       "      <td>0.0</td>\n",
       "      <td>1.0</td>\n",
       "      <td>...</td>\n",
       "      <td>0.0</td>\n",
       "      <td>0.0</td>\n",
       "      <td>0.0</td>\n",
       "      <td>1.0</td>\n",
       "      <td>0.0</td>\n",
       "      <td>1.0</td>\n",
       "      <td>0.0</td>\n",
       "      <td>0.0</td>\n",
       "      <td>0.0</td>\n",
       "      <td>1.0</td>\n",
       "    </tr>\n",
       "    <tr>\n",
       "      <th>4</th>\n",
       "      <td>0.0</td>\n",
       "      <td>1.0</td>\n",
       "      <td>0.0</td>\n",
       "      <td>0.0</td>\n",
       "      <td>0.0</td>\n",
       "      <td>0.0</td>\n",
       "      <td>0.0</td>\n",
       "      <td>0.0</td>\n",
       "      <td>0.0</td>\n",
       "      <td>1.0</td>\n",
       "      <td>...</td>\n",
       "      <td>0.0</td>\n",
       "      <td>0.0</td>\n",
       "      <td>0.0</td>\n",
       "      <td>1.0</td>\n",
       "      <td>1.0</td>\n",
       "      <td>0.0</td>\n",
       "      <td>1.0</td>\n",
       "      <td>0.0</td>\n",
       "      <td>0.0</td>\n",
       "      <td>0.0</td>\n",
       "    </tr>\n",
       "  </tbody>\n",
       "</table>\n",
       "<p>5 rows × 81 columns</p>\n",
       "</div>"
      ],
      "text/plain": [
       "    0    1    2    3    4    5    6    7    8    9  ...    71   72   73   74  \\\n",
       "0  0.0  0.0  1.0  0.0  0.0  0.0  0.0  0.0  1.0  0.0 ...   0.0  0.0  0.0  1.0   \n",
       "1  0.0  0.0  0.0  0.0  0.0  0.0  1.0  0.0  0.0  1.0 ...   0.0  0.0  1.0  0.0   \n",
       "2  0.0  0.0  0.0  0.0  0.0  0.0  1.0  0.0  1.0  0.0 ...   0.0  1.0  0.0  0.0   \n",
       "3  1.0  0.0  0.0  0.0  0.0  0.0  0.0  0.0  0.0  1.0 ...   0.0  0.0  0.0  1.0   \n",
       "4  0.0  1.0  0.0  0.0  0.0  0.0  0.0  0.0  0.0  1.0 ...   0.0  0.0  0.0  1.0   \n",
       "\n",
       "    75   76   77   78   79   80  \n",
       "0  1.0  0.0  0.0  0.0  0.0  1.0  \n",
       "1  1.0  0.0  0.0  0.0  0.0  1.0  \n",
       "2  1.0  0.0  1.0  0.0  0.0  0.0  \n",
       "3  0.0  1.0  0.0  0.0  0.0  1.0  \n",
       "4  1.0  0.0  1.0  0.0  0.0  0.0  \n",
       "\n",
       "[5 rows x 81 columns]"
      ]
     },
     "execution_count": 8,
     "metadata": {},
     "output_type": "execute_result"
    }
   ],
   "source": [
    "print df_cat.shape\n",
    "df_cat.head()"
   ]
  },
  {
   "cell_type": "markdown",
   "metadata": {},
   "source": [
    "**Хэширование**\n",
    "\n",
    "HashingVectorizer преобразовывает строку в числовой массив заданной длиной с помощью хэш-функции. В этом методе в качестве входных параметров мы задаем желаемое количество новых признаков, а также токенизатор - обработчик текста (в нём мы можем сделать любую удобную нам предобработку текста: удалить редкие слова, удалить знаки препинания, оставить только слова из определенного списка и т.д.). Токенизатор возвращает текст, разбитый на токены, т.е. на слова."
   ]
  },
  {
   "cell_type": "code",
   "execution_count": 9,
   "metadata": {
    "collapsed": true
   },
   "outputs": [],
   "source": [
    "def my_tokenizer(s):\n",
    "    return [elem for elem in s.split()]"
   ]
  },
  {
   "cell_type": "markdown",
   "metadata": {},
   "source": [
    "Наиболее интересный для нас с точки зрения хэширования - столбец att9."
   ]
  },
  {
   "cell_type": "code",
   "execution_count": 10,
   "metadata": {
    "collapsed": false
   },
   "outputs": [
    {
     "data": {
      "text/plain": [
       "0         dog\n",
       "1        seal\n",
       "3        bird\n",
       "4         cat\n",
       "5        fish\n",
       "14        pig\n",
       "19    dolphin\n",
       "Name: att9, dtype: object"
      ]
     },
     "execution_count": 10,
     "metadata": {},
     "output_type": "execute_result"
    }
   ],
   "source": [
    "df = pd.read_csv('table.csv')\n",
    "\n",
    "df['att9'].drop_duplicates()"
   ]
  },
  {
   "cell_type": "markdown",
   "metadata": {},
   "source": [
    "Для применения HashingVectorize выбираем из столбца все различные значения(слова) без повторений, обучаем HashingVectorizer на этих словах и применяем ко всему столбцу. В итоге мы получаем разреженную матрицу. С ней умеют работать многие алгоритмы машинного обучения, но при желании можем перевести ее в numpy array."
   ]
  },
  {
   "cell_type": "code",
   "execution_count": 11,
   "metadata": {
    "collapsed": false
   },
   "outputs": [
    {
     "data": {
      "text/plain": [
       "array([[ 0.,  0.,  0., ...,  0.,  0.,  0.],\n",
       "       [ 0.,  0.,  0., ...,  1.,  0.,  0.],\n",
       "       [ 0.,  0.,  0., ...,  1.,  0.,  0.],\n",
       "       ..., \n",
       "       [ 0.,  0.,  0., ...,  0.,  0.,  0.],\n",
       "       [ 0.,  0.,  0., ...,  0.,  0.,  0.],\n",
       "       [ 0.,  0.,  0., ...,  0.,  0.,  0.]])"
      ]
     },
     "execution_count": 11,
     "metadata": {},
     "output_type": "execute_result"
    }
   ],
   "source": [
    "from sklearn.feature_extraction.text import HashingVectorizer\n",
    "\n",
    "coder = HashingVectorizer(tokenizer=my_tokenizer, n_features=15)\n",
    "\n",
    "TrainNotDuble = df['att9'].drop_duplicates()\n",
    "coder.fit(TrainNotDuble)\n",
    "\n",
    "coder.transform(df['att9'].values).toarray()"
   ]
  },
  {
   "cell_type": "markdown",
   "metadata": {},
   "source": [
    "**Заполнение пропусков**"
   ]
  },
  {
   "cell_type": "markdown",
   "metadata": {},
   "source": [
    "В исходных данных могут быть пропущенные значения. Большинство методов машинного обучения не умеют с ними работать. Для этого мы должны каким-нибудь образом заполнить эти пропуски.\n",
    "\n",
    "Способы заполнения пропусков:\n",
    "\n",
    "* средним значением \n",
    "* медианой\n",
    "* самым часто встречающимся значением\n",
    "* каким-то одним новым значением (иногда пропуск в данных можно воспринимать как еще одно категориальное значение).\n",
    "* можно взять часть данных для обучения, а на другой части данных предсказать пропущенные значения (тогда для решения основной задачи нельзя обучаться на первой части данных)"
   ]
  },
  {
   "cell_type": "markdown",
   "metadata": {},
   "source": [
    "Посмотрим, есть ли пропуски в наших данных и много ли их."
   ]
  },
  {
   "cell_type": "code",
   "execution_count": 12,
   "metadata": {
    "collapsed": false
   },
   "outputs": [
    {
     "name": "stdout",
     "output_type": "stream",
     "text": [
      "True\n"
     ]
    },
    {
     "data": {
      "text/plain": [
       "array([  5,  14,  25,  26,  27,  66,  67,  69,  74,  83,  92,  99, 110,\n",
       "       123, 124, 125, 343, 344, 345, 348, 352, 362], dtype=int64)"
      ]
     },
     "execution_count": 12,
     "metadata": {},
     "output_type": "execute_result"
    }
   ],
   "source": [
    "#индексы строк с NAN\n",
    "\n",
    "df_real = df[df.columns[~cat_features_mask]]\n",
    "\n",
    "print np.any(np.isnan(df_real))\n",
    "\n",
    "pd.isnull(df_real).any(1).nonzero()[0]"
   ]
  },
  {
   "cell_type": "markdown",
   "metadata": {},
   "source": [
    "Заполним пропуски в данных с помощью встроенного метода Imputer, используя среднее значение признака."
   ]
  },
  {
   "cell_type": "code",
   "execution_count": 13,
   "metadata": {
    "collapsed": true
   },
   "outputs": [],
   "source": [
    "mis_replacer = preprocessing.Imputer(strategy=\"mean\")\n",
    "df_no_mis = pd.DataFrame(data=mis_replacer.fit_transform(df_real))"
   ]
  },
  {
   "cell_type": "code",
   "execution_count": 14,
   "metadata": {
    "collapsed": false
   },
   "outputs": [
    {
     "data": {
      "text/plain": [
       "False"
      ]
     },
     "execution_count": 14,
     "metadata": {},
     "output_type": "execute_result"
    }
   ],
   "source": [
    "np.any(np.isnan(df_no_mis))"
   ]
  },
  {
   "cell_type": "markdown",
   "metadata": {},
   "source": [
    "**Масштабирование признаков**\n",
    "\n",
    "Для применения в особенности линейных методов машинного обучения масштабирование признаков очень важно. Может быть так, что метод даст совершенно неправильный результат без масштабирования."
   ]
  },
  {
   "cell_type": "markdown",
   "metadata": {},
   "source": [
    "Масштабирование признаков можно выполнить, например, одним из следующих способов способами:\n",
    " - $x_{new} = \\dfrac{x - \\mu}{\\sigma}$, где $\\mu, \\sigma$ — среднее и стандартное отклонение значения признака по всей выборке (StandardScaler в sklearn)\n",
    " - $x_{new} = \\dfrac{x - x_{min}}{x_{max} - x_{min}}$, где $[x_{min}, x_{max}]$ — минимальный интервал значений признака (MinMaxScaler в sklearn)"
   ]
  },
  {
   "cell_type": "code",
   "execution_count": 15,
   "metadata": {
    "collapsed": true
   },
   "outputs": [],
   "source": [
    "normalizer = preprocessing.StandardScaler()\n",
    "df_real_norm = normalizer.fit_transform(df_no_mis)\n",
    "df_real_norm_pd = pd.DataFrame(data=df_real_norm)"
   ]
  },
  {
   "cell_type": "code",
   "execution_count": 16,
   "metadata": {
    "collapsed": true
   },
   "outputs": [],
   "source": [
    "mm_scaler = preprocessing.MinMaxScaler()\n",
    "df_mm_scaled = mm_scaler.fit_transform(df_no_mis)\n",
    "df_mm_scaled_pd = pd.DataFrame(data=df_mm_scaled)"
   ]
  },
  {
   "cell_type": "markdown",
   "metadata": {},
   "source": [
    "Разберем пример данных, когда масштабирование признаков сильно влияет на результат работы алгоритмов машинного обучения. Рассмотрим точки, равномерно нанесенные на плоскость (в данном датасете в качестве признаков x и y выступают координаты - долгота и широта точек, все точки территориально находятся в Москве)."
   ]
  },
  {
   "cell_type": "code",
   "execution_count": 17,
   "metadata": {
    "collapsed": false
   },
   "outputs": [
    {
     "data": {
      "text/html": [
       "<div>\n",
       "<style>\n",
       "    .dataframe thead tr:only-child th {\n",
       "        text-align: right;\n",
       "    }\n",
       "\n",
       "    .dataframe thead th {\n",
       "        text-align: left;\n",
       "    }\n",
       "\n",
       "    .dataframe tbody tr th {\n",
       "        vertical-align: top;\n",
       "    }\n",
       "</style>\n",
       "<table border=\"1\" class=\"dataframe\">\n",
       "  <thead>\n",
       "    <tr style=\"text-align: right;\">\n",
       "      <th></th>\n",
       "      <th>Unnamed: 0</th>\n",
       "      <th>lat</th>\n",
       "      <th>lon</th>\n",
       "      <th>class</th>\n",
       "    </tr>\n",
       "  </thead>\n",
       "  <tbody>\n",
       "    <tr>\n",
       "      <th>0</th>\n",
       "      <td>0</td>\n",
       "      <td>55.718427</td>\n",
       "      <td>37.572628</td>\n",
       "      <td>1</td>\n",
       "    </tr>\n",
       "    <tr>\n",
       "      <th>1</th>\n",
       "      <td>1</td>\n",
       "      <td>55.718749</td>\n",
       "      <td>37.573061</td>\n",
       "      <td>1</td>\n",
       "    </tr>\n",
       "    <tr>\n",
       "      <th>2</th>\n",
       "      <td>2</td>\n",
       "      <td>55.719072</td>\n",
       "      <td>37.573495</td>\n",
       "      <td>1</td>\n",
       "    </tr>\n",
       "    <tr>\n",
       "      <th>3</th>\n",
       "      <td>3</td>\n",
       "      <td>55.719394</td>\n",
       "      <td>37.573928</td>\n",
       "      <td>1</td>\n",
       "    </tr>\n",
       "    <tr>\n",
       "      <th>4</th>\n",
       "      <td>4</td>\n",
       "      <td>55.719717</td>\n",
       "      <td>37.574361</td>\n",
       "      <td>1</td>\n",
       "    </tr>\n",
       "  </tbody>\n",
       "</table>\n",
       "</div>"
      ],
      "text/plain": [
       "   Unnamed: 0        lat        lon  class\n",
       "0           0  55.718427  37.572628      1\n",
       "1           1  55.718749  37.573061      1\n",
       "2           2  55.719072  37.573495      1\n",
       "3           3  55.719394  37.573928      1\n",
       "4           4  55.719717  37.574361      1"
      ]
     },
     "execution_count": 17,
     "metadata": {},
     "output_type": "execute_result"
    }
   ],
   "source": [
    "X = pd.read_csv('scaler_example.csv')\n",
    "X.head()"
   ]
  },
  {
   "cell_type": "markdown",
   "metadata": {},
   "source": [
    "Посмотрим, как выглядят точки из датасета. Точки относятся к двум классам."
   ]
  },
  {
   "cell_type": "code",
   "execution_count": 18,
   "metadata": {
    "collapsed": false
   },
   "outputs": [
    {
     "name": "stdout",
     "output_type": "stream",
     "text": [
      "Populating the interactive namespace from numpy and matplotlib\n"
     ]
    },
    {
     "data": {
      "text/plain": [
       "<matplotlib.collections.PathCollection at 0xc130be0>"
      ]
     },
     "execution_count": 18,
     "metadata": {},
     "output_type": "execute_result"
    },
    {
     "data": {
      "image/png": "[encoded data removed]",
      "text/plain": [
       "<matplotlib.figure.Figure at 0xab442e8>"
      ]
     },
     "metadata": {},
     "output_type": "display_data"
    }
   ],
   "source": [
    "%pylab inline\n",
    "\n",
    "Xtrain = X[['lat','lon']].values\n",
    "Ytrain = X['class'].values\n",
    "\n",
    "figure(figsize=(10,10))\n",
    "scatter(Xtrain[Ytrain==1][:,0],Xtrain[Ytrain==1][:,1],color='green')\n",
    "scatter(Xtrain[Ytrain==0][:,0],Xtrain[Ytrain==0][:,1],color='red')"
   ]
  },
  {
   "cell_type": "code",
   "execution_count": 19,
   "metadata": {
    "collapsed": false
   },
   "outputs": [
    {
     "data": {
      "image/png": "[encoded data removed]",
      "text/plain": [
       "<matplotlib.figure.Figure at 0x132f630>"
      ]
     },
     "metadata": {},
     "output_type": "display_data"
    }
   ],
   "source": [
    "from sklearn.svm import SVC\n",
    "\n",
    "clf = SVC(kernel='linear')\n",
    "clf.fit(Xtrain,Ytrain)\n",
    "\n",
    "def plot_decision_line(Xtrain, Ytrain, clf, h):\n",
    "\n",
    "    x_min, x_max = Xtrain[:,0].min()-0.01, Xtrain[:,0].max()+0.01\n",
    "    y_min, y_max = Xtrain[:,1].min()-0.01, Xtrain[:,1].max()+0.01\n",
    "    xx, yy = np.meshgrid(np.arange(x_min, x_max, h),\n",
    "                         np.arange(y_min, y_max, h))\n",
    "    Z = clf.predict(np.c_[xx.ravel(), yy.ravel()])\n",
    "    Z = Z.reshape(xx.shape)\n",
    "    plt.figure(figsize=(10,10))\n",
    "    plt.contourf(xx, yy, Z)\n",
    "\n",
    "    Ytrain = np.array(Ytrain)\n",
    "    plt.scatter(Xtrain[Ytrain==1][:,0],Xtrain[Ytrain==1][:,1],color='green')\n",
    "    plt.scatter(Xtrain[Ytrain==0][:,0],Xtrain[Ytrain==0][:,1],color='red')\n",
    "\n",
    "    a = clf.coef_[0][0]\n",
    "    b = clf.coef_[0][1]\n",
    "    c = clf.intercept_\n",
    "\n",
    "    K = -a*1./b\n",
    "    B = -c*1./b\n",
    "\n",
    "    xx0 = np.linspace(x_min, x_max)\n",
    "    yy0 = K * xx0 + B\n",
    "\n",
    "    plt.scatter(xx0,yy0)\n",
    "    plt.show()\n",
    "    \n",
    "plot_decision_line(Xtrain, Ytrain, clf, 0.001)"
   ]
  },
  {
   "cell_type": "markdown",
   "metadata": {},
   "source": [
    "   Мы видим, что SVM абсолютно не справился с задачей. Попробуем теперь масштабировать данные."
   ]
  },
  {
   "cell_type": "code",
   "execution_count": 20,
   "metadata": {
    "collapsed": false
   },
   "outputs": [
    {
     "data": {
      "text/plain": [
       "SVC(C=1.0, cache_size=200, class_weight=None, coef0=0.0,\n",
       "  decision_function_shape=None, degree=3, gamma='auto', kernel='linear',\n",
       "  max_iter=-1, probability=False, random_state=None, shrinking=True,\n",
       "  tol=0.001, verbose=False)"
      ]
     },
     "execution_count": 20,
     "metadata": {},
     "output_type": "execute_result"
    }
   ],
   "source": [
    "from sklearn.preprocessing import StandardScaler\n",
    "\n",
    "sc = StandardScaler()\n",
    "TrainScaled = sc.fit_transform(Xtrain)\n",
    "\n",
    "clf.fit(TrainScaled,Ytrain)"
   ]
  },
  {
   "cell_type": "code",
   "execution_count": 21,
   "metadata": {
    "collapsed": false
   },
   "outputs": [
    {
     "data": {
      "image/png": "[encoded data removed]",
      "text/plain": [
       "<matplotlib.figure.Figure at 0xc16aef0>"
      ]
     },
     "metadata": {},
     "output_type": "display_data"
    }
   ],
   "source": [
    "plot_decision_line(TrainScaled, Ytrain, clf, 0.01)"
   ]
  },
  {
   "cell_type": "markdown",
   "metadata": {},
   "source": [
    "   "
   ]
  },
  {
   "cell_type": "markdown",
   "metadata": {},
   "source": [
    "## **Работа с текстовыми признаками**"
   ]
  },
  {
   "cell_type": "code",
   "execution_count": 22,
   "metadata": {
    "collapsed": false
   },
   "outputs": [
    {
     "name": "stdout",
     "output_type": "stream",
     "text": [
      "Populating the interactive namespace from numpy and matplotlib\n"
     ]
    },
    {
     "name": "stderr",
     "output_type": "stream",
     "text": [
      "C:\\Program Files\\Anaconda2\\lib\\site-packages\\IPython\\core\\magics\\pylab.py:161: UserWarning: pylab import has clobbered these variables: ['clf']\n",
      "`%matplotlib` prevents importing * from pylab and numpy\n",
      "  \"\\n`%matplotlib` prevents importing * from pylab and numpy\"\n"
     ]
    }
   ],
   "source": [
    "from tqdm import tqdm\n",
    "import regex as re\n",
    "\n",
    "%pylab inline"
   ]
  },
  {
   "cell_type": "markdown",
   "metadata": {},
   "source": [
    "Одним из направлений машинного обучения является работа с текстами и извлечение полезной информации из текстов. Чтобы алгоритмы машинного обучения могли работать с текстами, необходимо перевести тексты в наборы чисел. Для этого применяют различные алгоритмы векторизации текстов. "
   ]
  },
  {
   "cell_type": "markdown",
   "metadata": {},
   "source": [
    "Будем изучать датасет, содержащий отзывы о фильмах. Отзывы могут быть положительные, либо отрицательные. Наша конечная задача - научиться различать положительные и отрицательные отзывы.\n",
    "\n",
    "Загрузим датасет и уберем из него плохие строки (в которых нет оценки фильму)."
   ]
  },
  {
   "cell_type": "code",
   "execution_count": 97,
   "metadata": {
    "collapsed": false
   },
   "outputs": [
    {
     "name": "stderr",
     "output_type": "stream",
     "text": [
      "100%|██████████| 1002/1002 [00:00<00:00, 417472.20it/s]"
     ]
    },
    {
     "name": "stdout",
     "output_type": "stream",
     "text": [
      "The script is",
      "\n",
      "Definitely worth seeing",
      "\n"
     ]
    },
    {
     "name": "stderr",
     "output_type": "stream",
     "text": [
      "\n"
     ]
    },
    {
     "data": {
      "text/plain": [
       "2"
      ]
     },
     "execution_count": 97,
     "metadata": {},
     "output_type": "execute_result"
    }
   ],
   "source": [
    "responses = []\n",
    "X = []\n",
    "y = []\n",
    "import codecs \n",
    "\n",
    "bad = 0\n",
    "with codecs.open('imdb_labelled.txt',encoding='utf-8') as thefile:\n",
    "    for row in tqdm(thefile.readlines()):\n",
    "        try:\n",
    "            resp_curr, y_curr = row.split('\\t')\n",
    "        except:\n",
    "            'ValueError'\n",
    "            print row\n",
    "            bad+=1\n",
    "        X.append(resp_curr)\n",
    "        y.append(int(y_curr))\n",
    "bad"
   ]
  },
  {
   "cell_type": "code",
   "execution_count": 98,
   "metadata": {
    "collapsed": false
   },
   "outputs": [
    {
     "name": "stdout",
     "output_type": "stream",
     "text": [
      "And the rest of it just sits there being awful... with soldiers singing songs about the masculinity they pledge themselves to, hairsplitting about purity, the admiration of swords, etc.  \n"
     ]
    }
   ],
   "source": [
    "bad_responses = filter(lambda r: 'awful' in r, X)\n",
    "print bad_responses[1]"
   ]
  },
  {
   "cell_type": "markdown",
   "metadata": {},
   "source": [
    "Первые этапы обработки текста:\n",
    "\n",
    "* снижение регистра\n",
    "\n",
    "* удаление пунктуации\n",
    "\n",
    "* удаление всех символов, кроме символов нашего алфавита (в данном случае, латинского)"
   ]
  },
  {
   "cell_type": "code",
   "execution_count": 99,
   "metadata": {
    "collapsed": false
   },
   "outputs": [
    {
     "name": "stdout",
     "output_type": "stream",
     "text": [
      "and the rest of it just sits there being awful    with soldiers singing songs about the masculinity they pledge themselves to  hairsplitting about purity  the admiration of swords  etc   \n"
     ]
    }
   ],
   "source": [
    "print re.sub(ur'[^\\p{Latin}]', ' ', bad_responses[1].lower())"
   ]
  },
  {
   "cell_type": "code",
   "execution_count": 100,
   "metadata": {
    "collapsed": false
   },
   "outputs": [
    {
     "data": {
      "text/plain": [
       "u'as they say in canada  this is the fun game  aye   '"
      ]
     },
     "execution_count": 100,
     "metadata": {},
     "output_type": "execute_result"
    }
   ],
   "source": [
    "Texts = map(lambda r: re.sub(ur'[^\\p{Latin}]', ' ', r.lower()), X)\n",
    "Texts[35]"
   ]
  },
  {
   "cell_type": "markdown",
   "metadata": {},
   "source": [
    "Посмотрим на распределение ответов в наших данных. "
   ]
  },
  {
   "cell_type": "code",
   "execution_count": 101,
   "metadata": {
    "collapsed": false
   },
   "outputs": [
    {
     "data": {
      "text/plain": [
       "(array([ 501.,    0.,    0.,    0.,    0.,    0.,    0.,    0.,    0.,  501.]),\n",
       " array([ 0. ,  0.1,  0.2,  0.3,  0.4,  0.5,  0.6,  0.7,  0.8,  0.9,  1. ]),\n",
       " <a list of 10 Patch objects>)"
      ]
     },
     "execution_count": 101,
     "metadata": {},
     "output_type": "execute_result"
    },
    {
     "data": {
      "image/png": "[encoded data removed]",
      "text/plain": [
       "<matplotlib.figure.Figure at 0x7ff3661ab7d0>"
      ]
     },
     "metadata": {},
     "output_type": "display_data"
    }
   ],
   "source": [
    "hist(y)"
   ]
  },
  {
   "cell_type": "markdown",
   "metadata": {},
   "source": [
    "**1 способ векторизации: счётчик (CountVectorizer)**\n",
    "\n",
    "Каждому слову соответствует количество его вхождений в текст."
   ]
  },
  {
   "cell_type": "code",
   "execution_count": 102,
   "metadata": {
    "collapsed": true
   },
   "outputs": [],
   "source": [
    "from sklearn.feature_extraction.text import CountVectorizer"
   ]
  },
  {
   "cell_type": "code",
   "execution_count": 103,
   "metadata": {
    "collapsed": true
   },
   "outputs": [],
   "source": [
    "vectorizer = CountVectorizer(encoding='utf8', min_df=5)\n",
    "_ = vectorizer.fit(Texts)"
   ]
  },
  {
   "cell_type": "code",
   "execution_count": 104,
   "metadata": {
    "collapsed": false
   },
   "outputs": [
    {
     "data": {
      "text/plain": [
       "<1x392 sparse matrix of type '<type 'numpy.int64'>'\n",
       "\twith 5 stored elements in Compressed Sparse Row format>"
      ]
     },
     "execution_count": 104,
     "metadata": {},
     "output_type": "execute_result"
    }
   ],
   "source": [
    "vectorizer.transform(Texts[:1])"
   ]
  },
  {
   "cell_type": "code",
   "execution_count": 107,
   "metadata": {
    "collapsed": false
   },
   "outputs": [
    {
     "name": "stdout",
     "output_type": "stream",
     "text": [
      "[0 5]\n",
      "[  0 203 215 297 352]\n",
      "[1 1 1 1 3]\n"
     ]
    }
   ],
   "source": [
    "print vectorizer.transform(Texts[:1]).indptr\n",
    "print vectorizer.transform(Texts[:1]).indices\n",
    "print vectorizer.transform(Texts[:1]).data"
   ]
  },
  {
   "cell_type": "code",
   "execution_count": 106,
   "metadata": {
    "collapsed": true
   },
   "outputs": [],
   "source": [
    "from IPython.display import display, Math, Latex"
   ]
  },
  {
   "cell_type": "markdown",
   "metadata": {},
   "source": [
    "**2 способ векторизации: TF-IDF**\n",
    "\n",
    "Ещё один способ работы с текстовыми данными — TF-IDF (Term Frequency–Inverse Document Frequency). Рассмотрим коллекцию текстов $D$. Для каждого уникального слова $t$ из документа $d \\in D$ вычислим следующие величины:\n",
    "\n",
    "1. Term Frequency – количество вхождений слова в отношении к общему числу слов в тексте: \n",
    "    $$\\text{tf}(t, d) = \\frac{n_{td}}{\\sum_{t \\in d} n_{td}},$$ где $n_{td}$ — количество вхождений слова $t$ в текст $d$.\n",
    "2. Inverse Document Frequency $$\\text{idf}(t, D) = \\log \\frac{\\left| D \\right|}{\\left| \\{d\\in D: t \\in d\\} \\right|},$$ где $\\left| \\{d\\in D: t \\in d\\} \\right|$ – количество текстов в коллекции, содержащих слово $t$.\n",
    "\n",
    "Тогда для каждой пары (слово, текст) $(t, d)$ вычислим величину: $$\\text{tf-idf}(t,d, D) = \\text{tf}(t, d)\\cdot \\text{idf}(t, D).$$\n",
    "\n",
    "Отметим, что значение $\\text{tf}(t, d)$ корректируется для часто встречающихся общеупотребимых слов при помощи значения $\\text{idf}(t, D).$\n",
    "\n",
    "Признаковым описанием одного объекта $d \\in D$ будет вектор $\\bigg(\\text{tf-idf}(t,d, D)\\bigg)_{t\\in V}$, где $V$ – словарь всех слов, встречающихся в коллекции $D$."
   ]
  },
  {
   "cell_type": "code",
   "execution_count": 17,
   "metadata": {
    "collapsed": true
   },
   "outputs": [],
   "source": [
    "from sklearn.feature_extraction.text import TfidfVectorizer"
   ]
  },
  {
   "cell_type": "code",
   "execution_count": 18,
   "metadata": {
    "collapsed": true
   },
   "outputs": [],
   "source": [
    "vectorizer = TfidfVectorizer(encoding='utf8', min_df=5)\n",
    "_ = vectorizer.fit(Texts)"
   ]
  },
  {
   "cell_type": "code",
   "execution_count": 19,
   "metadata": {
    "collapsed": false
   },
   "outputs": [
    {
     "data": {
      "text/plain": [
       "<1x392 sparse matrix of type '<type 'numpy.float64'>'\n",
       "\twith 5 stored elements in Compressed Sparse Row format>"
      ]
     },
     "execution_count": 19,
     "metadata": {},
     "output_type": "execute_result"
    }
   ],
   "source": [
    "vectorizer.transform(Texts[:1])"
   ]
  },
  {
   "cell_type": "code",
   "execution_count": 20,
   "metadata": {
    "collapsed": false
   },
   "outputs": [
    {
     "name": "stdout",
     "output_type": "stream",
     "text": [
      "[0 5]\n",
      "[352 297 215 203   0]\n",
      "[ 0.77413499  0.40154229  0.18562717  0.35986969  0.27480023]\n"
     ]
    }
   ],
   "source": [
    "print vectorizer.transform(Texts[:1]).indptr\n",
    "print vectorizer.transform(Texts[:1]).indices\n",
    "print vectorizer.transform(Texts[:1]).data"
   ]
  },
  {
   "cell_type": "markdown",
   "metadata": {},
   "source": [
    "Применим два рассмотренных метода векторизации к задаче классификации отзывов на два класса (положительные и отрицательные)."
   ]
  },
  {
   "cell_type": "code",
   "execution_count": 21,
   "metadata": {
    "collapsed": true
   },
   "outputs": [],
   "source": [
    "from sklearn.cross_validation import ShuffleSplit\n",
    "from sklearn.linear_model import LogisticRegression\n",
    "from sklearn.metrics import roc_auc_score, accuracy_score"
   ]
  },
  {
   "cell_type": "code",
   "execution_count": 30,
   "metadata": {
    "collapsed": false
   },
   "outputs": [
    {
     "name": "stdout",
     "output_type": "stream",
     "text": [
      "ROC-AUC: 0.834, ACC: 0.746\n"
     ]
    }
   ],
   "source": [
    "vectorizer = CountVectorizer(encoding='utf8', min_df=5)\n",
    "_ = vectorizer.fit(Texts)\n",
    "\n",
    "X = vectorizer.transform(Texts)\n",
    "y = np.array(y)\n",
    "\n",
    "cv = ShuffleSplit(X.shape[0], n_iter=1, test_size=0.2)\n",
    "\n",
    "for train_ids, test_ids in cv:\n",
    "    lr = LogisticRegression()\n",
    "    lr.fit(X[train_ids], y[train_ids])\n",
    "    preds = lr.predict_proba(X[test_ids])[:,1]\n",
    "    print 'ROC-AUC: %.3f, ACC: %.3f' % (roc_auc_score(y[test_ids], preds), \n",
    "                                        accuracy_score(y[test_ids], (preds > 0.5).astype(int)))"
   ]
  },
  {
   "cell_type": "code",
   "execution_count": 31,
   "metadata": {
    "collapsed": false
   },
   "outputs": [
    {
     "name": "stdout",
     "output_type": "stream",
     "text": [
      "ROC-AUC: 0.879, ACC: 0.771\n"
     ]
    }
   ],
   "source": [
    "vectorizer = TfidfVectorizer(encoding='utf8', min_df=5)\n",
    "_ = vectorizer.fit(Texts)\n",
    "\n",
    "X = vectorizer.transform(Texts)\n",
    "y = np.array(y)\n",
    "\n",
    "for train_ids, test_ids in cv:\n",
    "    lr = LogisticRegression()\n",
    "    lr.fit(X[train_ids], y[train_ids])\n",
    "    preds = lr.predict_proba(X[test_ids])[:,1]\n",
    "    print 'ROC-AUC: %.3f, ACC: %.3f' % (roc_auc_score(y[test_ids], preds), \n",
    "                                        accuracy_score(y[test_ids], (preds > 0.5).astype(int)))"
   ]
  },
  {
   "cell_type": "markdown",
   "metadata": {},
   "source": [
    "**Важность признаков**\n",
    "\n",
    "В задачах, связанных с обработкой текстов, признаки как правило хорошо интерпретируемы. Для визуального контроля качества работы алгоритма можно посмотреть на те слова, которые алгоритм посчитал наиболее важными для данной задачи."
   ]
  },
  {
   "cell_type": "code",
   "execution_count": 33,
   "metadata": {
    "collapsed": false
   },
   "outputs": [
    {
     "name": "stdout",
     "output_type": "stream",
     "text": [
      "great, 1.87\n",
      "film, 1.59\n",
      "wonderful, 1.56\n",
      "love, 1.49\n",
      "and, 1.42\n",
      "excellent, 1.24\n",
      "loved, 1.22\n",
      "liked, 1.22\n",
      "beautiful, 1.18\n",
      "funny, 1.17\n",
      "game, 1.17\n",
      "right, 1.16\n",
      "well, 1.03\n",
      "nice, 1.02\n",
      "played, 1.01\n",
      "good, 0.97\n",
      "best, 0.95\n",
      "performance, 0.92\n",
      "enjoyed, 0.91\n",
      "...\n",
      "any, -0.89\n",
      "poor, -0.93\n",
      "worst, -0.95\n",
      "boring, -0.96\n",
      "how, -0.99\n",
      "terrible, -1.00\n",
      "script, -1.03\n",
      "waste, -1.05\n",
      "cheap, -1.05\n",
      "sucked, -1.07\n",
      "make, -1.08\n",
      "just, -1.09\n",
      "even, -1.14\n",
      "plot, -1.23\n",
      "didn, -1.25\n",
      "not, -1.31\n",
      "stupid, -1.36\n",
      "no, -1.42\n",
      "awful, -1.48\n"
     ]
    }
   ],
   "source": [
    "weights = zip(vectorizer.get_feature_names(), lr.coef_[0])\n",
    "weights = sorted(weights, key=lambda i: i[1])\n",
    "for i in range(1,20):\n",
    "    print '%s, %.2f' % f_weights[-i]\n",
    "    \n",
    "print '...'\n",
    "for i in reversed(range(1,20)):\n",
    "    print '%s, %.2f' % f_weights[i]"
   ]
  },
  {
   "cell_type": "markdown",
   "metadata": {},
   "source": [
    "**3 способ векторизации: Word2Vec**\n",
    "\n",
    "Word2Vec - это алгоритм, который собирает статистику по совместному появлению слов в фразах, а затем с помощью нейронных сетей решает задачу снижения размерности и выдает на выходе компактные векторные представления слов, в максимальной степени отражающие отношения этих слов в обрабатываемых текстах.\n",
    "\n",
    "Нахождение связей между контекстами слов основано на предположении, что слова, находящиеся в похожих контекстах, имеют тенденцию значить похожие вещи, т.е. быть семантически близкими. \n",
    "Формально задача стоит так: максимизировать косинусное расстояние между векторами слов (скалярное произведение векторов), которые появляются рядом друг с другом, и минимизировать косинусное расстояние между векторами слов, которые не появляются друг рядом с другом. Рядом друг с другом в данном случае значит в близких контекстах."
   ]
  },
  {
   "cell_type": "markdown",
   "metadata": {},
   "source": [
    "Применим векторизацию с помощью word2vec для наших данных. Кроме того, удалим stop-слова, то есть слова, часто встречающиеся во всех английских текстах - это ещё один полезный метод обработки текстов."
   ]
  },
  {
   "cell_type": "code",
   "execution_count": 37,
   "metadata": {
    "collapsed": false
   },
   "outputs": [
    {
     "data": {
      "text/plain": [
       "{u'a',\n",
       " u'about',\n",
       " u'above',\n",
       " u'after',\n",
       " u'again',\n",
       " u'against',\n",
       " u'ain',\n",
       " u'all',\n",
       " u'am',\n",
       " u'an',\n",
       " u'and',\n",
       " u'any',\n",
       " u'are',\n",
       " u'aren',\n",
       " u'as',\n",
       " u'at',\n",
       " u'be',\n",
       " u'because',\n",
       " u'been',\n",
       " u'before',\n",
       " u'being',\n",
       " u'below',\n",
       " u'between',\n",
       " u'both',\n",
       " u'but',\n",
       " u'by',\n",
       " u'can',\n",
       " u'couldn',\n",
       " u'd',\n",
       " u'did',\n",
       " u'didn',\n",
       " u'do',\n",
       " u'does',\n",
       " u'doesn',\n",
       " u'doing',\n",
       " u'don',\n",
       " u'down',\n",
       " u'during',\n",
       " u'each',\n",
       " u'few',\n",
       " u'for',\n",
       " u'from',\n",
       " u'further',\n",
       " u'had',\n",
       " u'hadn',\n",
       " u'has',\n",
       " u'hasn',\n",
       " u'have',\n",
       " u'haven',\n",
       " u'having',\n",
       " u'he',\n",
       " u'her',\n",
       " u'here',\n",
       " u'hers',\n",
       " u'herself',\n",
       " u'him',\n",
       " u'himself',\n",
       " u'his',\n",
       " u'how',\n",
       " u'i',\n",
       " u'if',\n",
       " u'in',\n",
       " u'into',\n",
       " u'is',\n",
       " u'isn',\n",
       " u'it',\n",
       " u'its',\n",
       " u'itself',\n",
       " u'just',\n",
       " u'll',\n",
       " u'm',\n",
       " u'ma',\n",
       " u'me',\n",
       " u'mightn',\n",
       " u'more',\n",
       " u'most',\n",
       " u'mustn',\n",
       " u'my',\n",
       " u'myself',\n",
       " u'needn',\n",
       " u'no',\n",
       " u'nor',\n",
       " u'not',\n",
       " u'now',\n",
       " u'o',\n",
       " u'of',\n",
       " u'off',\n",
       " u'on',\n",
       " u'once',\n",
       " u'only',\n",
       " u'or',\n",
       " u'other',\n",
       " u'our',\n",
       " u'ours',\n",
       " u'ourselves',\n",
       " u'out',\n",
       " u'over',\n",
       " u'own',\n",
       " u're',\n",
       " u's',\n",
       " u'same',\n",
       " u'shan',\n",
       " u'she',\n",
       " u'should',\n",
       " u'shouldn',\n",
       " u'so',\n",
       " u'some',\n",
       " u'such',\n",
       " u't',\n",
       " u'than',\n",
       " u'that',\n",
       " u'the',\n",
       " u'their',\n",
       " u'theirs',\n",
       " u'them',\n",
       " u'themselves',\n",
       " u'then',\n",
       " u'there',\n",
       " u'these',\n",
       " u'they',\n",
       " u'this',\n",
       " u'those',\n",
       " u'through',\n",
       " u'to',\n",
       " u'too',\n",
       " u'under',\n",
       " u'until',\n",
       " u'up',\n",
       " u've',\n",
       " u'very',\n",
       " u'was',\n",
       " u'wasn',\n",
       " u'we',\n",
       " u'were',\n",
       " u'weren',\n",
       " u'what',\n",
       " u'when',\n",
       " u'where',\n",
       " u'which',\n",
       " u'while',\n",
       " u'who',\n",
       " u'whom',\n",
       " u'why',\n",
       " u'will',\n",
       " u'with',\n",
       " u'won',\n",
       " u'wouldn',\n",
       " u'y',\n",
       " u'you',\n",
       " u'your',\n",
       " u'yours',\n",
       " u'yourself',\n",
       " u'yourselves'}"
      ]
     },
     "execution_count": 37,
     "metadata": {},
     "output_type": "execute_result"
    }
   ],
   "source": [
    "from nltk.corpus import stopwords\n",
    "\n",
    "stops = set(stopwords.words(\"english\"))\n",
    "stops"
   ]
  },
  {
   "cell_type": "code",
   "execution_count": 41,
   "metadata": {
    "collapsed": true
   },
   "outputs": [],
   "source": [
    "def delete_stopwords(review, remove_stopwords=True):\n",
    "    \n",
    "    words = review.split()\n",
    "\n",
    "    if remove_stopwords:\n",
    "        stops = set(stopwords.words(\"english\"))\n",
    "        words = [w for w in words if not w in stops]\n",
    "    return(words)"
   ]
  },
  {
   "cell_type": "markdown",
   "metadata": {},
   "source": [
    "Переведем строки нашего датасета в токенизированный вид и удалим из них стоп-слова - в этом виде они пригодны для использования word2vec."
   ]
  },
  {
   "cell_type": "code",
   "execution_count": 43,
   "metadata": {
    "collapsed": true
   },
   "outputs": [],
   "source": [
    "import nltk.data\n",
    "tokenizer = nltk.data.load('tokenizers/punkt/english.pickle')\n",
    "\n",
    "def review_to_sentences(review,tokenizer,remove_stopwords=True ):\n",
    "\n",
    "    raw_sentences = tokenizer.tokenize(review.strip())\n",
    "\n",
    "    sentences = []\n",
    "    for sentence in raw_sentences:\n",
    "        if len(sentence) > 0:\n",
    "            sentences.append(delete_stopwords(sentence,remove_stopwords))\n",
    "    return sentences\n",
    "\n",
    "sentences = []\n",
    "Y = []\n",
    "for i in range(len(Texts)):\n",
    "    if len(set(Texts[i])) == 1:\n",
    "        continue\n",
    "    Y.append(y[i])\n",
    "    sentences += review_to_sentences(Texts[i], tokenizer)"
   ]
  },
  {
   "cell_type": "markdown",
   "metadata": {},
   "source": [
    "Применим word2vec к токенизированному корпусу."
   ]
  },
  {
   "cell_type": "code",
   "execution_count": 44,
   "metadata": {
    "collapsed": true
   },
   "outputs": [],
   "source": [
    "num_features = 500                       \n",
    "min_word_count = 5                   \n",
    "num_workers = 4       \n",
    "context = 10                                                                               \n",
    "downsampling = 1e-5   \n",
    "\n",
    "from gensim.models import word2vec\n",
    "\n",
    "\n",
    "model = word2vec.Word2Vec(sentences, workers=num_workers, \\\n",
    "            size=num_features, min_count = min_word_count, \\\n",
    "            window = context, sample = downsampling)\n",
    "\n",
    "model.init_sims(replace=True)\n",
    "\n",
    "model_name = str(num_features)+\"features_word2vec\"\n",
    "model.save(model_name)"
   ]
  },
  {
   "cell_type": "markdown",
   "metadata": {},
   "source": [
    "Теперь каждое слово корпуса имеет векторное представление"
   ]
  },
  {
   "cell_type": "code",
   "execution_count": 46,
   "metadata": {
    "collapsed": false
   },
   "outputs": [
    {
     "data": {
      "text/plain": [
       "array([-0.01643586,  0.05379697,  0.01463854, -0.01274379, -0.05882576,\n",
       "        0.04192226, -0.05076824, -0.06632231,  0.05484292, -0.00985162,\n",
       "        0.04459245,  0.06577962, -0.00052611,  0.00023736, -0.06920638,\n",
       "       -0.03122957, -0.03049195,  0.05123437,  0.01829705,  0.0548411 ,\n",
       "        0.0491547 , -0.0712584 ,  0.07114273,  0.0416788 , -0.06600374,\n",
       "        0.06936676,  0.00473274, -0.02131033, -0.05746994,  0.00030344,\n",
       "       -0.03593435, -0.05889384,  0.02758963,  0.03043418,  0.0505714 ,\n",
       "        0.01325307,  0.02466158, -0.05069513, -0.0441882 , -0.04104777,\n",
       "        0.00533597, -0.063242  , -0.05276113,  0.05147021,  0.05085199,\n",
       "       -0.0665969 ,  0.02247656,  0.07164661, -0.03551215, -0.03772375,\n",
       "        0.02579116,  0.04995889, -0.00421592,  0.07560738,  0.03875414,\n",
       "        0.02723952,  0.00641359, -0.01965233,  0.02169894,  0.00340134,\n",
       "       -0.01994597, -0.00984615, -0.01057374, -0.07337175,  0.03579481,\n",
       "       -0.00059824,  0.0645955 , -0.02766181,  0.03132612, -0.07467188,\n",
       "        0.02962142, -0.06173673,  0.03344919,  0.00763051, -0.06881455,\n",
       "       -0.00566976, -0.02267925,  0.03742862,  0.0619582 ,  0.07129288,\n",
       "       -0.06168215, -0.03223859, -0.01298487, -0.06961642, -0.05537422,\n",
       "        0.01177478, -0.02050594, -0.04610924,  0.06371286,  0.0725884 ,\n",
       "       -0.05274658,  0.01836045,  0.03062609,  0.0066116 ,  0.03483233,\n",
       "       -0.06644024,  0.02228359,  0.07200544,  0.02706814,  0.02301321,\n",
       "        0.04217877, -0.05841109, -0.06871112, -0.00100044,  0.03471347,\n",
       "       -0.06179037, -0.04235744,  0.01699812, -0.04995061,  0.01424328,\n",
       "        0.03485062,  0.05642251,  0.04815549, -0.05381253, -0.04775691,\n",
       "        0.0664022 , -0.05379574, -0.01039324, -0.00623035,  0.01306607,\n",
       "        0.0249351 ,  0.05155784, -0.01152336, -0.05395494, -0.00715071,\n",
       "       -0.00259229,  0.02297551, -0.05071646, -0.0511652 ,  0.02595787,\n",
       "        0.04242041,  0.05269922,  0.02716249, -0.06090294,  0.02986241,\n",
       "       -0.04241067, -0.07238782, -0.06031673,  0.02627648, -0.07299613,\n",
       "       -0.01711893,  0.06972722,  0.07002353, -0.02854992,  0.05227196,\n",
       "        0.02042957,  0.04686189,  0.00020928,  0.01542678,  0.04333717,\n",
       "       -0.04030477,  0.05799769, -0.05780987, -0.04802266, -0.03275363,\n",
       "        0.02333121,  0.05717149, -0.06243629, -0.0327685 , -0.07126572,\n",
       "       -0.06219656,  0.06755679, -0.05940473,  0.02542261, -0.02724606,\n",
       "       -0.07533214,  0.04349504,  0.05156061,  0.01541968, -0.05656611,\n",
       "       -0.07182886,  0.04304311, -0.07457335,  0.03691773,  0.04538647,\n",
       "       -0.03386798, -0.01757344,  0.02961409, -0.05790982, -0.02133027,\n",
       "        0.01814484, -0.05233812,  0.06472248, -0.02730511,  0.0519004 ,\n",
       "        0.01399993,  0.01712155, -0.02637617, -0.00846868, -0.07465031,\n",
       "        0.04625153, -0.01947582, -0.04146992,  0.03950515,  0.07428358,\n",
       "        0.02996818,  0.04601265,  0.0153268 ,  0.0675627 , -0.03270587,\n",
       "        0.02221486,  0.00402707, -0.07088792, -0.07139082,  0.01916489,\n",
       "        0.0154027 , -0.06454019,  0.00440962, -0.00088651, -0.05755867,\n",
       "        0.07081436,  0.00791071, -0.00972977,  0.0196098 , -0.06234388,\n",
       "       -0.06065863, -0.04548917,  0.06665529, -0.05219309, -0.07653495,\n",
       "       -0.01355687,  0.03320076,  0.02564769, -0.05533667, -0.04965472,\n",
       "       -0.04778185,  0.04243351,  0.0007939 , -0.00540493, -0.01562488,\n",
       "        0.05003124,  0.00705121, -0.04064059,  0.004228  , -0.06887107,\n",
       "        0.0408418 , -0.00303305, -0.03266999, -0.06798539,  0.03640711,\n",
       "       -0.03325931, -0.01757825, -0.04334087, -0.03077631,  0.00923309,\n",
       "        0.05479646,  0.05842945,  0.01335659,  0.03327392,  0.02506301,\n",
       "       -0.0701426 ,  0.01687586, -0.0466284 ,  0.01993333, -0.06937414,\n",
       "       -0.07626466, -0.07092341,  0.04722973, -0.03491589,  0.04378236,\n",
       "       -0.03885109, -0.02483074, -0.00821547,  0.03670724, -0.06259958,\n",
       "        0.05200754,  0.02509539,  0.02945109, -0.01549148, -0.05476002,\n",
       "       -0.06384468, -0.0697754 , -0.07540173,  0.05267854,  0.01669759,\n",
       "        0.01157441,  0.05523737, -0.04367288, -0.00678738,  0.05912183,\n",
       "        0.00469417,  0.03476522,  0.02107166,  0.07266814,  0.04752629,\n",
       "        0.00770094,  0.00474842, -0.06339356,  0.07521321, -0.03936277,\n",
       "        0.07646435, -0.02179495,  0.01683578, -0.04958155,  0.05639627,\n",
       "       -0.0542428 , -0.01515679, -0.04909536, -0.03854718,  0.05314893,\n",
       "       -0.03907894,  0.03825102, -0.0013492 ,  0.00676177, -0.02220903,\n",
       "        0.04542832, -0.00081282, -0.03851462, -0.00249991,  0.01791552,\n",
       "       -0.05105248,  0.06401949,  0.01503214, -0.0014349 , -0.05189442,\n",
       "        0.07650342, -0.07326084, -0.0260956 , -0.01130092,  0.04091254,\n",
       "       -0.04306164,  0.00115341, -0.0583601 ,  0.05831161, -0.03392619,\n",
       "        0.01143704,  0.01538924,  0.06616224, -0.03395044, -0.04002884,\n",
       "       -0.04790322,  0.07091383, -0.07417045,  0.0212399 , -0.05075649,\n",
       "       -0.04142026,  0.00048227, -0.01210722, -0.03470971, -0.05972316,\n",
       "        0.01699028, -0.05307074,  0.07047868,  0.03054033,  0.00418836,\n",
       "       -0.0318126 , -0.04976023,  0.07286052,  0.07472994, -0.00142452,\n",
       "       -0.04157076, -0.00928311,  0.01166075, -0.01299603,  0.01121625,\n",
       "        0.01814287, -0.0187831 ,  0.06184484,  0.00528967,  0.00285168,\n",
       "       -0.02269421, -0.00523612,  0.06205671, -0.05964571,  0.01318343,\n",
       "       -0.02202025, -0.06352432,  0.055958  , -0.06336612, -0.04041633,\n",
       "        0.07551304, -0.06524915, -0.02201671, -0.04726873, -0.02818687,\n",
       "       -0.03471709,  0.02454806, -0.0741929 , -0.01425635,  0.05297574,\n",
       "       -0.00357713, -0.06745028,  0.01220264, -0.06922281, -0.05426683,\n",
       "        0.04322031,  0.05454959,  0.03260062, -0.00038398, -0.01121862,\n",
       "        0.06191054, -0.04246206, -0.04923523,  0.02957922, -0.01039566,\n",
       "       -0.02025485, -0.00590109,  0.07650981, -0.0439306 ,  0.05337111,\n",
       "       -0.0328124 ,  0.03357584, -0.00813838,  0.04029051,  0.0309    ,\n",
       "       -0.06789944, -0.05940885,  0.07632803,  0.04627169,  0.00050579,\n",
       "       -0.03483753,  0.0053451 ,  0.00081553,  0.03207607,  0.06103397,\n",
       "       -0.05286976,  0.04239949, -0.06473196, -0.04862689,  0.03801592,\n",
       "       -0.00088796,  0.0567306 , -0.06724305,  0.03715305,  0.03711953,\n",
       "       -0.06516226,  0.04934595, -0.05561863,  0.04184387, -0.06585608,\n",
       "        0.07224817, -0.06737335, -0.07623207,  0.01824022, -0.04462921,\n",
       "        0.05098038, -0.07574114,  0.03607255,  0.05674486,  0.05645147,\n",
       "        0.00463798, -0.02427674, -0.01578939, -0.05929282, -0.01699181,\n",
       "       -0.07529339,  0.02941719,  0.01014867,  0.05342159, -0.05979528,\n",
       "        0.00455753, -0.07344641,  0.00022508, -0.00301896,  0.04638245,\n",
       "        0.00837861, -0.0158149 ,  0.04320963,  0.02785814,  0.02720602,\n",
       "       -0.04737091, -0.06386682, -0.06404363, -0.06914924,  0.00268621,\n",
       "        0.00091366, -0.03560202,  0.04247136,  0.0644583 ,  0.04299288,\n",
       "        0.04856098,  0.01708529, -0.03192102,  0.05712068, -0.05924245,\n",
       "       -0.01145963, -0.03783508,  0.04589524,  0.05401482,  0.00352904,\n",
       "       -0.07485381, -0.03839685, -0.05233354,  0.00309548, -0.06907113,\n",
       "        0.00567646, -0.00069239, -0.03645388, -0.03355595,  0.01505806,\n",
       "        0.07236311,  0.05214842, -0.04527295,  0.03431142, -0.01912035,\n",
       "        0.03028131, -0.04896508,  0.03966945, -0.02291081, -0.00797419], dtype=float32)"
      ]
     },
     "execution_count": 46,
     "metadata": {},
     "output_type": "execute_result"
    }
   ],
   "source": [
    "model.wv['good']"
   ]
  },
  {
   "cell_type": "markdown",
   "metadata": {},
   "source": [
    "В качестве одного из способов векторизовать текст (в нашем случае отзыв на фильм), можно усреднить векторы слов, входящих в этот текст. Так и сделаем."
   ]
  },
  {
   "cell_type": "code",
   "execution_count": 48,
   "metadata": {
    "collapsed": true
   },
   "outputs": [],
   "source": [
    "import numpy as np\n",
    "import re\n",
    "from nltk.corpus import stopwords\n",
    "\n",
    "index2word_set = set(model.wv.index2word)\n",
    "\n",
    "def make_featurevec(words, model, num_features):\n",
    "    featureVec = np.zeros((num_features,),dtype=\"float32\")\n",
    "    nwords = 0.\n",
    "    for word in words:\n",
    "        if word in index2word_set:\n",
    "            nwords = nwords + 1.\n",
    "            featureVec += model[word]\n",
    "    if nwords > 0:\n",
    "        featureVec = np.divide(featureVec,nwords)\n",
    "    return featureVec\n",
    "\n",
    "def get_avg_featurevecs(reviews, model, num_features):\n",
    "    counter = 0\n",
    "    reviewFeatureVecs = np.zeros((len(reviews),num_features),dtype=\"float32\")\n",
    "    for review in reviews:\n",
    "        reviewFeatureVecs[counter] = make_featurevec(review, model, num_features)\n",
    "        counter = counter + 1\n",
    "    return reviewFeatureVecs\n",
    "\n",
    "trainDataVecs = get_avg_featurevecs(sentences, model, num_features)"
   ]
  },
  {
   "cell_type": "markdown",
   "metadata": {},
   "source": [
    "Наконец, обучим классификатор на полученных признаках."
   ]
  },
  {
   "cell_type": "code",
   "execution_count": 57,
   "metadata": {
    "collapsed": false
   },
   "outputs": [
    {
     "name": "stdout",
     "output_type": "stream",
     "text": [
      "ROC-AUC: 0.806, ACC: 0.745\n"
     ]
    }
   ],
   "source": [
    "cv = ShuffleSplit(trainDataVecs.shape[0], n_iter=1, test_size=0.2)\n",
    "\n",
    "Y = np.array(Y)\n",
    "\n",
    "for train_ids, test_ids in cv:\n",
    "    lr = LogisticRegression()\n",
    "    lr.fit(trainDataVecs[train_ids], Y[train_ids])\n",
    "    preds = lr.predict_proba(trainDataVecs[test_ids])[:,1]\n",
    "    print 'ROC-AUC: %.3f, ACC: %.3f' % (roc_auc_score(Y[test_ids], preds), \n",
    "                                        accuracy_score(Y[test_ids], (preds > 0.5).astype(int)))"
   ]
  }
 ],
 "metadata": {
  "kernelspec": {
   "display_name": "Python 2",
   "language": "python",
   "name": "python2"
  },
  "language_info": {
   "codemirror_mode": {
    "name": "ipython",
    "version": 2
   },
   "file_extension": ".py",
   "mimetype": "text/x-python",
   "name": "python",
   "nbconvert_exporter": "python",
   "pygments_lexer": "ipython2",
   "version": "2.7.12"
  }
 },
 "nbformat": 4,
 "nbformat_minor": 2
}
