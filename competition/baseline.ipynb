{
 "cells": [
  {
   "cell_type": "code",
   "execution_count": 160,
   "metadata": {},
   "outputs": [],
   "source": [
    "import numpy as np\n",
    "import pandas as pd\n",
    "from sklearn.linear_model import LogisticRegression"
   ]
  },
  {
   "cell_type": "code",
   "execution_count": 161,
   "metadata": {},
   "outputs": [],
   "source": [
    "df_train = pd.read_csv('main_train.csv')\n",
    "df_test = pd.read_csv('main_test.csv')\n",
    "tf_train = pd.read_csv('teamfights_train.csv')\n",
    "tf_test = pd.read_csv('teamfights_test.csv')"
   ]
  },
  {
   "cell_type": "code",
   "execution_count": 162,
   "metadata": {},
   "outputs": [
    {
     "data": {
      "text/html": [
       "<div>\n",
       "<style scoped>\n",
       "    .dataframe tbody tr th:only-of-type {\n",
       "        vertical-align: middle;\n",
       "    }\n",
       "\n",
       "    .dataframe tbody tr th {\n",
       "        vertical-align: top;\n",
       "    }\n",
       "\n",
       "    .dataframe thead th {\n",
       "        text-align: right;\n",
       "    }\n",
       "</style>\n",
       "<table border=\"1\" class=\"dataframe\">\n",
       "  <thead>\n",
       "    <tr style=\"text-align: right;\">\n",
       "      <th></th>\n",
       "      <th>match_id</th>\n",
       "      <th>radiant</th>\n",
       "      <th>hero</th>\n",
       "      <th>gold_0</th>\n",
       "      <th>lh_0</th>\n",
       "      <th>xp_0</th>\n",
       "      <th>gold_60</th>\n",
       "      <th>lh_60</th>\n",
       "      <th>xp_60</th>\n",
       "      <th>gold_120</th>\n",
       "      <th>...</th>\n",
       "      <th>xp_600</th>\n",
       "      <th>level_180</th>\n",
       "      <th>level_240</th>\n",
       "      <th>level_300</th>\n",
       "      <th>level_360</th>\n",
       "      <th>level_420</th>\n",
       "      <th>level_480</th>\n",
       "      <th>level_540</th>\n",
       "      <th>level_600</th>\n",
       "      <th>radiant_win</th>\n",
       "    </tr>\n",
       "  </thead>\n",
       "  <tbody>\n",
       "    <tr>\n",
       "      <th>0</th>\n",
       "      <td>0</td>\n",
       "      <td>1</td>\n",
       "      <td>Rubick</td>\n",
       "      <td>0.0</td>\n",
       "      <td>0.0</td>\n",
       "      <td>0.0</td>\n",
       "      <td>100.0</td>\n",
       "      <td>0.0</td>\n",
       "      <td>46.0</td>\n",
       "      <td>250.0</td>\n",
       "      <td>...</td>\n",
       "      <td>1741.0</td>\n",
       "      <td>0.0</td>\n",
       "      <td>0.0</td>\n",
       "      <td>0.0</td>\n",
       "      <td>0.0</td>\n",
       "      <td>0.0</td>\n",
       "      <td>0.0</td>\n",
       "      <td>0.0</td>\n",
       "      <td>0.0</td>\n",
       "      <td>1</td>\n",
       "    </tr>\n",
       "    <tr>\n",
       "      <th>1</th>\n",
       "      <td>0</td>\n",
       "      <td>1</td>\n",
       "      <td>Wraith King</td>\n",
       "      <td>0.0</td>\n",
       "      <td>0.0</td>\n",
       "      <td>0.0</td>\n",
       "      <td>175.0</td>\n",
       "      <td>2.0</td>\n",
       "      <td>124.0</td>\n",
       "      <td>526.0</td>\n",
       "      <td>...</td>\n",
       "      <td>2319.0</td>\n",
       "      <td>0.0</td>\n",
       "      <td>0.0</td>\n",
       "      <td>0.0</td>\n",
       "      <td>0.0</td>\n",
       "      <td>0.0</td>\n",
       "      <td>0.0</td>\n",
       "      <td>1.0</td>\n",
       "      <td>1.0</td>\n",
       "      <td>1</td>\n",
       "    </tr>\n",
       "    <tr>\n",
       "      <th>2</th>\n",
       "      <td>0</td>\n",
       "      <td>1</td>\n",
       "      <td>Riki</td>\n",
       "      <td>0.0</td>\n",
       "      <td>0.0</td>\n",
       "      <td>0.0</td>\n",
       "      <td>137.0</td>\n",
       "      <td>1.0</td>\n",
       "      <td>93.0</td>\n",
       "      <td>439.0</td>\n",
       "      <td>...</td>\n",
       "      <td>3859.0</td>\n",
       "      <td>0.0</td>\n",
       "      <td>0.0</td>\n",
       "      <td>0.0</td>\n",
       "      <td>0.0</td>\n",
       "      <td>0.0</td>\n",
       "      <td>1.0</td>\n",
       "      <td>1.0</td>\n",
       "      <td>1.0</td>\n",
       "      <td>1</td>\n",
       "    </tr>\n",
       "    <tr>\n",
       "      <th>3</th>\n",
       "      <td>0</td>\n",
       "      <td>1</td>\n",
       "      <td>Tusk</td>\n",
       "      <td>0.0</td>\n",
       "      <td>0.0</td>\n",
       "      <td>0.0</td>\n",
       "      <td>100.0</td>\n",
       "      <td>0.0</td>\n",
       "      <td>62.0</td>\n",
       "      <td>200.0</td>\n",
       "      <td>...</td>\n",
       "      <td>1676.0</td>\n",
       "      <td>0.0</td>\n",
       "      <td>0.0</td>\n",
       "      <td>0.0</td>\n",
       "      <td>0.0</td>\n",
       "      <td>0.0</td>\n",
       "      <td>0.0</td>\n",
       "      <td>0.0</td>\n",
       "      <td>1.0</td>\n",
       "      <td>1</td>\n",
       "    </tr>\n",
       "    <tr>\n",
       "      <th>4</th>\n",
       "      <td>0</td>\n",
       "      <td>1</td>\n",
       "      <td>Templar Assassin</td>\n",
       "      <td>0.0</td>\n",
       "      <td>0.0</td>\n",
       "      <td>0.0</td>\n",
       "      <td>320.0</td>\n",
       "      <td>3.0</td>\n",
       "      <td>352.0</td>\n",
       "      <td>668.0</td>\n",
       "      <td>...</td>\n",
       "      <td>4453.0</td>\n",
       "      <td>0.0</td>\n",
       "      <td>0.0</td>\n",
       "      <td>0.0</td>\n",
       "      <td>0.0</td>\n",
       "      <td>0.0</td>\n",
       "      <td>0.0</td>\n",
       "      <td>1.0</td>\n",
       "      <td>2.0</td>\n",
       "      <td>1</td>\n",
       "    </tr>\n",
       "  </tbody>\n",
       "</table>\n",
       "<p>5 rows × 45 columns</p>\n",
       "</div>"
      ],
      "text/plain": [
       "   match_id  radiant              hero  gold_0  lh_0  xp_0  gold_60  lh_60  \\\n",
       "0         0        1            Rubick     0.0   0.0   0.0    100.0    0.0   \n",
       "1         0        1       Wraith King     0.0   0.0   0.0    175.0    2.0   \n",
       "2         0        1              Riki     0.0   0.0   0.0    137.0    1.0   \n",
       "3         0        1              Tusk     0.0   0.0   0.0    100.0    0.0   \n",
       "4         0        1  Templar Assassin     0.0   0.0   0.0    320.0    3.0   \n",
       "\n",
       "   xp_60  gold_120     ...       xp_600  level_180  level_240  level_300  \\\n",
       "0   46.0     250.0     ...       1741.0        0.0        0.0        0.0   \n",
       "1  124.0     526.0     ...       2319.0        0.0        0.0        0.0   \n",
       "2   93.0     439.0     ...       3859.0        0.0        0.0        0.0   \n",
       "3   62.0     200.0     ...       1676.0        0.0        0.0        0.0   \n",
       "4  352.0     668.0     ...       4453.0        0.0        0.0        0.0   \n",
       "\n",
       "   level_360  level_420  level_480  level_540  level_600  radiant_win  \n",
       "0        0.0        0.0        0.0        0.0        0.0            1  \n",
       "1        0.0        0.0        0.0        1.0        1.0            1  \n",
       "2        0.0        0.0        1.0        1.0        1.0            1  \n",
       "3        0.0        0.0        0.0        0.0        1.0            1  \n",
       "4        0.0        0.0        0.0        1.0        2.0            1  \n",
       "\n",
       "[5 rows x 45 columns]"
      ]
     },
     "execution_count": 162,
     "metadata": {},
     "output_type": "execute_result"
    }
   ],
   "source": [
    "df_train.head()"
   ]
  },
  {
   "cell_type": "code",
   "execution_count": 163,
   "metadata": {
    "scrolled": false
   },
   "outputs": [
    {
     "data": {
      "text/html": [
       "<div>\n",
       "<style scoped>\n",
       "    .dataframe tbody tr th:only-of-type {\n",
       "        vertical-align: middle;\n",
       "    }\n",
       "\n",
       "    .dataframe tbody tr th {\n",
       "        vertical-align: top;\n",
       "    }\n",
       "\n",
       "    .dataframe thead th {\n",
       "        text-align: right;\n",
       "    }\n",
       "</style>\n",
       "<table border=\"1\" class=\"dataframe\">\n",
       "  <thead>\n",
       "    <tr style=\"text-align: right;\">\n",
       "      <th></th>\n",
       "      <th>teamfight_id</th>\n",
       "      <th>match_id</th>\n",
       "      <th>player_slot</th>\n",
       "      <th>radiant</th>\n",
       "      <th>buybacks</th>\n",
       "      <th>damage</th>\n",
       "      <th>deaths_player</th>\n",
       "      <th>gold_delta</th>\n",
       "      <th>xp_end</th>\n",
       "      <th>xp_start</th>\n",
       "      <th>start</th>\n",
       "      <th>end</th>\n",
       "      <th>last_death</th>\n",
       "    </tr>\n",
       "  </thead>\n",
       "  <tbody>\n",
       "    <tr>\n",
       "      <th>0</th>\n",
       "      <td>3288</td>\n",
       "      <td>1</td>\n",
       "      <td>0</td>\n",
       "      <td>1</td>\n",
       "      <td>0</td>\n",
       "      <td>673</td>\n",
       "      <td>0</td>\n",
       "      <td>89</td>\n",
       "      <td>2681</td>\n",
       "      <td>2263</td>\n",
       "      <td>423</td>\n",
       "      <td>467</td>\n",
       "      <td>452</td>\n",
       "    </tr>\n",
       "    <tr>\n",
       "      <th>1</th>\n",
       "      <td>3288</td>\n",
       "      <td>1</td>\n",
       "      <td>1</td>\n",
       "      <td>1</td>\n",
       "      <td>0</td>\n",
       "      <td>154</td>\n",
       "      <td>0</td>\n",
       "      <td>199</td>\n",
       "      <td>2016</td>\n",
       "      <td>1694</td>\n",
       "      <td>423</td>\n",
       "      <td>467</td>\n",
       "      <td>452</td>\n",
       "    </tr>\n",
       "    <tr>\n",
       "      <th>2</th>\n",
       "      <td>3288</td>\n",
       "      <td>1</td>\n",
       "      <td>2</td>\n",
       "      <td>1</td>\n",
       "      <td>0</td>\n",
       "      <td>403</td>\n",
       "      <td>0</td>\n",
       "      <td>320</td>\n",
       "      <td>1640</td>\n",
       "      <td>1230</td>\n",
       "      <td>423</td>\n",
       "      <td>467</td>\n",
       "      <td>452</td>\n",
       "    </tr>\n",
       "    <tr>\n",
       "      <th>3</th>\n",
       "      <td>3288</td>\n",
       "      <td>1</td>\n",
       "      <td>3</td>\n",
       "      <td>1</td>\n",
       "      <td>0</td>\n",
       "      <td>201</td>\n",
       "      <td>0</td>\n",
       "      <td>158</td>\n",
       "      <td>2367</td>\n",
       "      <td>1957</td>\n",
       "      <td>423</td>\n",
       "      <td>467</td>\n",
       "      <td>452</td>\n",
       "    </tr>\n",
       "    <tr>\n",
       "      <th>4</th>\n",
       "      <td>3288</td>\n",
       "      <td>1</td>\n",
       "      <td>4</td>\n",
       "      <td>1</td>\n",
       "      <td>0</td>\n",
       "      <td>369</td>\n",
       "      <td>1</td>\n",
       "      <td>165</td>\n",
       "      <td>2445</td>\n",
       "      <td>2061</td>\n",
       "      <td>423</td>\n",
       "      <td>467</td>\n",
       "      <td>452</td>\n",
       "    </tr>\n",
       "  </tbody>\n",
       "</table>\n",
       "</div>"
      ],
      "text/plain": [
       "   teamfight_id  match_id  player_slot  radiant  buybacks  damage  \\\n",
       "0          3288         1            0        1         0     673   \n",
       "1          3288         1            1        1         0     154   \n",
       "2          3288         1            2        1         0     403   \n",
       "3          3288         1            3        1         0     201   \n",
       "4          3288         1            4        1         0     369   \n",
       "\n",
       "   deaths_player  gold_delta  xp_end  xp_start  start  end  last_death  \n",
       "0              0          89    2681      2263    423  467         452  \n",
       "1              0         199    2016      1694    423  467         452  \n",
       "2              0         320    1640      1230    423  467         452  \n",
       "3              0         158    2367      1957    423  467         452  \n",
       "4              1         165    2445      2061    423  467         452  "
      ]
     },
     "execution_count": 163,
     "metadata": {},
     "output_type": "execute_result"
    }
   ],
   "source": [
    "tf_train.head()"
   ]
  },
  {
   "cell_type": "markdown",
   "metadata": {},
   "source": [
    "В качестве признаков возьмем суммарное количество золота, опыта и уровней на 10 минуте."
   ]
  },
  {
   "cell_type": "code",
   "execution_count": 164,
   "metadata": {},
   "outputs": [],
   "source": [
    "df_train_numpy = df_train.values"
   ]
  },
  {
   "cell_type": "code",
   "execution_count": 165,
   "metadata": {},
   "outputs": [],
   "source": [
    "def convert_players_values_to_team(players_values):\n",
    "    team_values = players_values.reshape(-1, 5,)\n",
    "    team_values = np.sum(team_values, axis = 1)\n",
    "    return team_values[::2], team_values[1::2]\n",
    "\n",
    "level_index = np.where(df_train.columns == 'level_600')[0][0]\n",
    "levels_rad, levels_dare = convert_players_values_to_team(df_train_numpy[:, level_index])\n",
    "\n",
    "gold_index = np.where(df_train.columns == 'gold_600')[0][0]\n",
    "gold_rad, gold_dare = convert_players_values_to_team(df_train_numpy[:, gold_index])\n",
    "\n",
    "xp_index = np.where(df_train.columns == 'xp_600')[0][0]\n",
    "xp_rad, xp_dare = convert_players_values_to_team(df_train_numpy[:, xp_index])"
   ]
  },
  {
   "cell_type": "code",
   "execution_count": 166,
   "metadata": {},
   "outputs": [],
   "source": [
    "y_train = np.array(df_train_numpy[::10, -1], dtype=np.float32)"
   ]
  },
  {
   "cell_type": "code",
   "execution_count": 167,
   "metadata": {},
   "outputs": [],
   "source": [
    "X_train = np.array(np.vstack([levels_rad, levels_dare, gold_rad, gold_dare, xp_rad, xp_dare]).T, dtype=np.float32)"
   ]
  },
  {
   "cell_type": "code",
   "execution_count": 168,
   "metadata": {},
   "outputs": [
    {
     "data": {
      "text/plain": [
       "array([            nan,             nan,  12937.47558594,  12890.57128906,\n",
       "        13811.203125  ,  13812.41015625], dtype=float32)"
      ]
     },
     "execution_count": 168,
     "metadata": {},
     "output_type": "execute_result"
    }
   ],
   "source": [
    "np.mean(X_train, axis = 0)"
   ]
  },
  {
   "cell_type": "markdown",
   "metadata": {},
   "source": [
    "Как мы видим, у нас есть пропущенные значения в суммарных уровнях игроков. Заполним их средним."
   ]
  },
  {
   "cell_type": "code",
   "execution_count": 169,
   "metadata": {},
   "outputs": [],
   "source": [
    "levels = X_train[:, :2]\n",
    "X_train[np.isnan(X_train)] = np.mean(levels[np.logical_not(np.isnan(levels))])"
   ]
  },
  {
   "cell_type": "code",
   "execution_count": 170,
   "metadata": {},
   "outputs": [],
   "source": [
    "from sklearn.model_selection import cross_val_score"
   ]
  },
  {
   "cell_type": "code",
   "execution_count": 171,
   "metadata": {},
   "outputs": [
    {
     "data": {
      "text/plain": [
       "0.7058422026032084"
      ]
     },
     "execution_count": 171,
     "metadata": {},
     "output_type": "execute_result"
    }
   ],
   "source": [
    "np.mean(cross_val_score(X=X_train, y=y_train, estimator=LogisticRegression(), cv=5, scoring='roc_auc'))"
   ]
  },
  {
   "cell_type": "code",
   "execution_count": 172,
   "metadata": {},
   "outputs": [
    {
     "data": {
      "text/plain": [
       "LogisticRegression(C=1.0, class_weight=None, dual=False, fit_intercept=True,\n",
       "          intercept_scaling=1, max_iter=100, multi_class='ovr', n_jobs=1,\n",
       "          penalty='l2', random_state=None, solver='liblinear', tol=0.0001,\n",
       "          verbose=0, warm_start=False)"
      ]
     },
     "execution_count": 172,
     "metadata": {},
     "output_type": "execute_result"
    }
   ],
   "source": [
    "clf = LogisticRegression()\n",
    "clf.fit(X_train, y_train)"
   ]
  },
  {
   "cell_type": "markdown",
   "metadata": {},
   "source": [
    "Осталось предсказать на тесте."
   ]
  },
  {
   "cell_type": "code",
   "execution_count": 173,
   "metadata": {},
   "outputs": [],
   "source": [
    "df_test_numpy = df_test.values\n",
    "\n",
    "level_index = np.where(df_test.columns == 'level_600')[0][0]\n",
    "levels_rad, levels_dare = convert_players_values_to_team(df_test_numpy[:, level_index])\n",
    "\n",
    "gold_index = np.where(df_test.columns == 'gold_600')[0][0]\n",
    "gold_rad, gold_dare = convert_players_values_to_team(df_test_numpy[:, gold_index])\n",
    "\n",
    "xp_index = np.where(df_test.columns == 'xp_600')[0][0]\n",
    "xp_rad, xp_dare = convert_players_values_to_team(df_test_numpy[:, xp_index])"
   ]
  },
  {
   "cell_type": "code",
   "execution_count": 174,
   "metadata": {},
   "outputs": [],
   "source": [
    "X_test = np.array(np.vstack([levels_rad, levels_dare, gold_rad, gold_dare, xp_rad, xp_dare]).T, dtype=np.float32)"
   ]
  },
  {
   "cell_type": "code",
   "execution_count": 175,
   "metadata": {},
   "outputs": [
    {
     "data": {
      "text/plain": [
       "array([            nan,             nan,  12920.08886719,  12877.01464844,\n",
       "        13785.1875    ,  13796.19335938], dtype=float32)"
      ]
     },
     "execution_count": 175,
     "metadata": {},
     "output_type": "execute_result"
    }
   ],
   "source": [
    "np.mean(X_test, axis = 0)"
   ]
  },
  {
   "cell_type": "code",
   "execution_count": 176,
   "metadata": {},
   "outputs": [],
   "source": [
    "X_test[np.isnan(X_test)] = np.mean(levels[np.logical_not(np.isnan(levels))])"
   ]
  },
  {
   "cell_type": "code",
   "execution_count": 177,
   "metadata": {},
   "outputs": [],
   "source": [
    "predictions = clf.predict_proba(X_test)"
   ]
  },
  {
   "cell_type": "code",
   "execution_count": 178,
   "metadata": {},
   "outputs": [],
   "source": [
    "indeces = np.array(df_test.match_id.values[::10], dtype=int)"
   ]
  },
  {
   "cell_type": "code",
   "execution_count": 179,
   "metadata": {},
   "outputs": [],
   "source": [
    "submission = pd.DataFrame()\n",
    "submission['index'] = indeces\n",
    "submission['proba'] = predictions[:, 1]"
   ]
  },
  {
   "cell_type": "code",
   "execution_count": 180,
   "metadata": {},
   "outputs": [],
   "source": [
    "submission.to_csv('baseline.csv', index=False)"
   ]
  },
  {
   "cell_type": "code",
   "execution_count": null,
   "metadata": {},
   "outputs": [],
   "source": []
  }
 ],
 "metadata": {
  "kernelspec": {
   "display_name": "Python 3",
   "language": "python",
   "name": "python3"
  },
  "language_info": {
   "codemirror_mode": {
    "name": "ipython",
    "version": 3
   },
   "file_extension": ".py",
   "mimetype": "text/x-python",
   "name": "python",
   "nbconvert_exporter": "python",
   "pygments_lexer": "ipython3",
   "version": "3.6.3"
  }
 },
 "nbformat": 4,
 "nbformat_minor": 2
}
